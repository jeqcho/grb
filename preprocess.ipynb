{
 "cells": [
  {
   "cell_type": "markdown",
   "metadata": {
    "collapsed": false,
    "jupyter": {
     "outputs_hidden": false
    }
   },
   "source": [
    "_This notebook was written and developed by [Keneth Garcia](https://www.linkedin.com/in/keneth-garcia-a6305b1b9/). Source and license info are on [GitHub](https://github.com/KenethGarcia/ClassiPyGRB)._"
   ]
  },
  {
   "cell_type": "markdown",
   "metadata": {
    "collapsed": false,
    "jupyter": {
     "outputs_hidden": false
    }
   },
   "source": [
    "# Swift/BAT Data Pre-processing\n",
    "The Neil Gehrels Swift Observatory presents analysis results for the Swift/BAT Gamma-Ray Burst (GRBs) on [this website](https://swift.gsfc.nasa.gov/results/batgrbcat/) (open access).\n",
    "\n",
    "This notebook summarizes how to preprocess Swift/BAT data at different resolutions. Through this document, we are using the _python3_ implementations from the _ClassiPyGRB_ package. It is necessary to have an internet connection and a _Jupyter Notebook_/_Python 3_ compiler software. The following sections reproduce the method developed by [Jespersen et al. (2020)](https://ui.adsabs.harvard.edu/abs/2020ApJ...896L..20J/abstract) to preprocess data.\n",
    "\n",
    "**REMARK:** As [Jespersen et al. (2020)](https://ui.adsabs.harvard.edu/abs/2020ApJ...896L..20J/abstract) said: _\"It should be noted that the DFT is not necessarily an optimal preprocessing solution for separating GRBs. Other preprocessing techniques that preserve the information content in the light curve would yield equally valid representations of GRB classes, though possibly not as cleanly separated.\"_ Please, review the method presented by [Jespersen et al. (2020)](https://ui.adsabs.harvard.edu/abs/2020ApJ...896L..20J/abstract), understand the origin and consequences of each step. For more information, see section 2.2 of this work.\n",
    "\n",
    "First, we need to import the _SWIFT_ instance of _ClassiPyGRB_ to our notebook (and some other packages needed in this notebook):"
   ]
  },
  {
   "cell_type": "code",
   "execution_count": 123,
   "metadata": {
    "ExecuteTime": {
     "end_time": "2023-05-21T21:01:36.167827280Z",
     "start_time": "2023-05-21T21:01:34.976730828Z"
    },
    "collapsed": false,
    "jupyter": {
     "outputs_hidden": false
    }
   },
   "outputs": [],
   "source": [
    "from ClassiPyGRB import SWIFT\n",
    "# Packages needed in this notebook\n",
    "import os\n",
    "import pandas as pd\n",
    "import numpy as np"
   ]
  },
  {
   "cell_type": "markdown",
   "metadata": {
    "collapsed": false,
    "jupyter": {
     "outputs_hidden": false
    }
   },
   "source": [
    "## Changing the Swift GRB binning\n",
    "There are some cases in which we need to use different data resolutions and binning; handling these situations can be solved in this package by managing the _resolution_ $res$ argument.\n",
    "\n",
    "Through **ClassiPyGRB**, you can change the _resolution_ variable to $2$, $8$, $16$, $64$, and $256$ ms respectively. Additionally, you can set $res=1000$ for 1s binning and $res=10000$ to use data with a signal-to-noise ratio higher than 5 or 10 s binning (10s data don't have uniform time spacing).\n",
    "\n",
    "In **ClassiPyGRB**, you have a high level of saving data customization. You can set the following paths:\n",
    "- $root\\_path$ (str): Main path to save data/results from SWIFT. Unique mandatory path to ensure the functionality of SWIFT Class.\n",
    "- $data\\_path$ (str, optional): Path to save data from SWIFT. Defaults to Data folder inside root\\_path.\n",
    "- $original\\_data\\_path$ (str, optional): Path to save non-manipulated data from SWIFT. Defaults to Original\\_Data folder inside data\\_path.\n",
    "- $noise\\_data\\_path$ (str, optional): Path to save noise-reduced data from SWIFT. Defaults to Noise\\_Filtered\\_Data folder inside data\\_path.\n",
    "- $results\\_path$ (str, optional): Path to save non-manipulated data from SWIFT. Defaults to Results folder inside root\\_path.\n",
    "\n",
    "Moreover, in **ClassiPyGRB**, it is possible to customize the bands used from Swift/BAT data using the parameter `n_bands`. This parameter consists of an array of integers ranging from 1 to 5, where each integer represents a unique band from Swift. In order, 1 represents the 15-25 keV band, 2 represents the 25-50 keV band, 3 represents the 50-100 keV band, 4 represents the 100-350 keV band, and 5 represents the 15-350 keV band. Therefore, for example, by using $n\\_bands=[2, 4]$ **ClassiPyGRB** understands that you would like to work with 25-50 keV and 100-350 keV bands. Setting `n_bands` appropriately can help you to improve the preprocessing, results of t-SNE, and custom plotting from Swift/BAT.\n",
    "\n",
    "However, the most simple and easy implementation of **ClassiPyGRB** only uses $root\\_path$ as a main folder and saves both data and results in this path:\n"
   ]
  },
  {
   "cell_type": "code",
   "execution_count": 124,
   "metadata": {
    "ExecuteTime": {
     "end_time": "2023-05-21T21:01:36.176142176Z",
     "start_time": "2023-05-21T21:01:36.170270736Z"
    },
    "collapsed": false,
    "jupyter": {
     "outputs_hidden": false
    }
   },
   "outputs": [
    {
     "name": "stdout",
     "output_type": "stream",
     "text": [
      "Swift/BAT bands selected: ['Time(s)', '15-25keV']\n"
     ]
    }
   ],
   "source": [
    "swift = SWIFT(root_path='data', res=256, n_bands=[1])\n",
    "print(f\"Swift/BAT bands selected: {swift.bands_selected}\")"
   ]
  },
  {
   "cell_type": "markdown",
   "metadata": {
    "collapsed": false,
    "jupyter": {
     "outputs_hidden": false
    }
   },
   "source": [
    "Now, we want to process the data to prepare it for tSNE implementation. This process consists of 4 phases, following ([Jespersen et al. (2020)](https://ui.adsabs.harvard.edu/abs/2020ApJ...896L..20J/abstract)):\n",
    "\n",
    "* Limit all GRBs out of $T_{100}$.\n",
    "* Normalize light curves (lc) by total fluence in the 15-350keV band.\n",
    "* Pad with zeros all GRBs, putting them on the same time standard basis.\n",
    "* Concatenate data from all bands and perform DFT to get the Fourier amplitude spectrum.\n",
    "\n",
    "In the subsequent sections, we'll describe these processes and show how to use **ClassiPyGRB** to do these steps.\n",
    "\n",
    "Last, extract the GRB Names from Swift, and remove the GRBs with download errors (this is valid only if you already have downloaded data from Swift/BAT):"
   ]
  },
  {
   "cell_type": "code",
   "execution_count": 125,
   "metadata": {
    "ExecuteTime": {
     "end_time": "2023-05-21T21:01:36.296711558Z",
     "start_time": "2023-05-21T21:01:36.177401500Z"
    },
    "collapsed": false,
    "jupyter": {
     "outputs_hidden": false
    }
   },
   "outputs": [
    {
     "name": "stdout",
     "output_type": "stream",
     "text": [
      "There are 1554 GRBs in the current working Swift/BAT dataset.\n"
     ]
    }
   ],
   "source": [
    "df = swift.summary_table()\n",
    "GRB_names = df['GRBname'] # GRB Names total array\n",
    "try:\n",
    "    df = pd.read_table(os.path.join(swift.original_data_path, f\"Errors_{swift.end}.txt\"), sep='\\t', comment='#', names=['GRB Name', 'Error'], header=None)\n",
    "    GRB_errors = df['GRB Name']\n",
    "except FileNotFoundError:\n",
    "    pass\n",
    "else:\n",
    "    GRB_names = np.unique(GRB_names[~GRB_names.isin(GRB_errors)])\n",
    "print(f'There are {len(GRB_names)} GRBs in the current working Swift/BAT dataset.')"
   ]
  },
  {
   "cell_type": "markdown",
   "metadata": {
    "collapsed": false,
    "jupyter": {
     "outputs_hidden": false
    }
   },
   "source": [
    ">[!NOTE]\n",
    "> If you haven't downloaded the data yet, please check the _BAT_Data_Download_ notebook. It is strongly recommended to download data before running this notebook, although the instances used here can work without any previously downloaded data, the time of pre-processing can be highly affected if you do not have it."
   ]
  },
  {
   "cell_type": "markdown",
   "metadata": {
    "collapsed": false,
    "jupyter": {
     "outputs_hidden": false
    }
   },
   "source": [
    "## Data visualization\n",
    "Let's see how the data looks. You can plot the original light curves for any GRB using the `plot_any_grb` function, specifically, using the argument _t_ in None (indicating that you don't need to filter the LC). In this case, it takes the form (at the resolution selected in the past section):"
   ]
  },
  {
   "cell_type": "code",
   "execution_count": 126,
   "metadata": {
    "ExecuteTime": {
     "end_time": "2023-05-21T21:01:41.962481088Z",
     "start_time": "2023-05-21T21:01:36.253133264Z"
    },
    "collapsed": false,
    "jupyter": {
     "outputs_hidden": false
    }
   },
   "outputs": [
    {
     "data": {
      "image/png": "[encoded data removed]",
      "text/plain": [
       "<Figure size 960x720 with 1 Axes>"
      ]
     },
     "metadata": {},
     "output_type": "display_data"
    }
   ],
   "source": [
    "%matplotlib inline\n",
    "name = 'GRB060614'  # Change this with the GRB of your preference\n",
    "axis = swift.plot_any_grb(name, t=None, figsize=[6.4, 4.8])"
   ]
  },
  {
   "cell_type": "markdown",
   "metadata": {
    "collapsed": false,
    "jupyter": {
     "outputs_hidden": false
    }
   },
   "source": [
    "As you can see, there is information in four bands and the cumulative (sum of all bands) in the 15-350keV plot. The x-axis represents the time since BAT Trigger, and the y-axis represents the GRB counts/sec/det.\n",
    "\n",
    "In the following sections, we are working with the four bands and their total, but to perform non-linear dimensionality reduction, we do not need to use the total band."
   ]
  },
  {
   "cell_type": "markdown",
   "metadata": {
    "collapsed": false,
    "jupyter": {
     "outputs_hidden": false
    }
   },
   "source": [
    "## First step: Limit lc out of $T_{100}$\n",
    "In this step, we need to extract the durations for all GRBs available in `summary_burst_durations.txt` using the `duration_limits` instance. If you don't pass any GRB name to the `duration_limits` instance, this function returns a list containing three values for each GRB in the table: Name, $T_{i}$ start and end times (in seconds), where $i$ can be 50, 90, or 100 (default value), but if you pass it a name, then it returns these values only by this GRB. On the other hand, the function `total_durations` receives a list of GRB names but returns the total duration."
   ]
  },
  {
   "cell_type": "code",
   "execution_count": 127,
   "metadata": {
    "ExecuteTime": {
     "end_time": "2023-05-21T21:01:42.139809911Z",
     "start_time": "2023-05-21T21:01:41.950713064Z"
    },
    "collapsed": false,
    "jupyter": {
     "outputs_hidden": false
    }
   },
   "outputs": [
    {
     "name": "stderr",
     "output_type": "stream",
     "text": [
      "Finding Durations: 100%|█████████████████████████| 1/1 [00:05<00:00,  5.30s/GRB]\n"
     ]
    },
    {
     "name": "stdout",
     "output_type": "stream",
     "text": [
      "GRB060614 has T_100=180.576s (T_100 start=-1.496s, T_100 end=179.080s)\n"
     ]
    }
   ],
   "source": [
    "name = 'GRB060614'\n",
    "durations_times = swift.duration_limits(name=name, t=100)\n",
    "print(f\"{durations_times[0, 0]} has T_100={round(swift.total_durations(names=[name])[0], 3)}s (T_100 start={durations_times[0, 1]}s, T_100 end={durations_times[0, 2]}s)\")"
   ]
  },
  {
   "cell_type": "markdown",
   "metadata": {
    "collapsed": false,
    "jupyter": {
     "outputs_hidden": false
    }
   },
   "source": [
    "With these values, we can limit our GRB light curve (lc) using the instance `lc_limiter`.  In this function, it is possible to directly set the time limiters in seconds or pass it an integer to indicate what duration we need (however, these integers can be only 50, 90, and 100). So, let's try to extract the light curve out of $T_{100}$ by using an integer and setting limits manually, then comparing both:"
   ]
  },
  {
   "cell_type": "code",
   "execution_count": 128,
   "metadata": {
    "ExecuteTime": {
     "end_time": "2023-05-21T21:01:42.147969123Z",
     "start_time": "2023-05-21T21:01:42.070889392Z"
    },
    "collapsed": false,
    "jupyter": {
     "outputs_hidden": false
    }
   },
   "outputs": [
    {
     "name": "stdout",
     "output_type": "stream",
     "text": [
      "Are both arrays equal? Answer=True\n",
      "      Time(s)  15-25keV\n",
      "931    -1.296  0.853324\n",
      "932    -1.040  1.646995\n",
      "933    -0.784  1.138156\n",
      "934    -0.528  1.305805\n",
      "935    -0.272  0.509089\n",
      "936    -0.016  0.740080\n",
      "937     0.240  1.256466\n",
      "938     0.496  0.923162\n",
      "939     0.752  1.061518\n",
      "940     1.008  1.531977\n",
      "941     1.264  0.953428\n",
      "942     1.520  0.412220\n",
      "943     1.776  0.639725\n",
      "944     2.032  0.512821\n",
      "945     2.288  0.547768\n",
      "946     2.544  0.600462\n",
      "947     2.800  1.236192\n",
      "948     3.056  1.260435\n",
      "949     3.312  0.480030\n",
      "950     3.568  0.362329\n",
      "951     3.824  0.452932\n",
      "952     4.080  0.304492\n",
      "953     4.336  0.277988\n",
      "954     4.592  0.240972\n",
      "955     4.848  0.093740\n",
      "956     5.104  0.091521\n",
      "957     5.360  0.110655\n",
      "958     5.616  0.089496\n",
      "959     5.872  0.056467\n",
      "960     6.128  0.173370\n",
      "961     6.384  0.156025\n",
      "962     6.640  0.250769\n",
      "963     6.896  0.199571\n",
      "964     7.152  0.084832\n",
      "965     7.408  0.099855\n",
      "966     7.664  0.166877\n",
      "967     7.920  0.093338\n",
      "968     8.176  0.024981\n",
      "969     8.432  0.065401\n",
      "970     8.688  0.105028\n",
      "971     8.944  0.307837\n",
      "972     9.200  0.275567\n",
      "973     9.456 -0.002805\n",
      "974     9.712  0.168137\n",
      "975     9.968  0.127163\n",
      "976    10.224  0.267689\n",
      "977    10.480  0.266037\n",
      "978    10.736  0.679098\n",
      "979    10.992  0.320991\n",
      "980    11.248  0.292102\n",
      "981    11.504  0.414362\n",
      "982    11.760  0.307783\n",
      "983    12.016  0.438591\n",
      "984    12.272  0.417035\n",
      "985    12.528  0.299970\n",
      "986    12.784  0.248372\n",
      "987    13.040  0.301690\n",
      "988    13.296  0.253373\n",
      "989    13.552  0.404286\n",
      "990    13.808  0.365418\n",
      "991    14.064  0.156514\n",
      "992    14.320  0.244515\n",
      "993    14.576  0.180984\n",
      "994    14.832  0.138229\n",
      "995    15.088  0.228958\n",
      "996    15.344  0.152591\n",
      "997    15.600  0.166847\n",
      "998    15.856  0.162502\n",
      "999    16.112  0.210679\n",
      "1000   16.368  0.213743\n",
      "1001   16.624  0.146537\n",
      "1002   16.880  0.281875\n",
      "1003   17.136  0.455403\n",
      "1004   17.392  0.551463\n",
      "1005   17.648  0.617133\n",
      "1006   17.904  0.693527\n",
      "1007   18.160  0.586054\n",
      "1008   18.416  0.430964\n",
      "1009   18.672  0.296081\n",
      "1010   18.928  0.290991\n",
      "1011   19.184  0.419226\n",
      "1012   19.440  0.642246\n",
      "1013   19.696  0.546390\n",
      "1014   19.952  0.679475\n",
      "1015   20.208  0.425970\n",
      "1016   20.464  0.378269\n",
      "1017   20.720  0.432730\n",
      "1018   20.976  0.573618\n",
      "1019   21.232  0.617689\n",
      "1020   21.488  0.745005\n",
      "1021   21.744  0.471624\n",
      "1022   22.000  0.363240\n",
      "1023   22.256  0.551279\n",
      "1024   22.512  0.381227\n",
      "1025   22.768  0.223387\n",
      "1026   23.024  0.258300\n",
      "1027   23.280  0.076694\n",
      "1028   23.536  0.133757\n",
      "1029   23.792  0.072683\n",
      "1030   24.048  0.119921\n",
      "1031   24.304  0.117566\n",
      "1032   24.560  0.126874\n",
      "1033   24.816  0.216109\n",
      "1034   25.072  0.247387\n",
      "1035   25.328  0.377883\n",
      "1036   25.584  0.380639\n",
      "1037   25.840  0.333560\n",
      "1038   26.096  0.421358\n",
      "1039   26.352  0.474367\n",
      "1040   26.608  0.536901\n",
      "1041   26.864  0.508072\n",
      "1042   27.120  0.480566\n",
      "1043   27.376  0.396650\n",
      "1044   27.632  0.347933\n",
      "1045   27.888  0.215831\n",
      "1046   28.144  0.266836\n",
      "1047   28.400  0.270230\n",
      "1048   28.656  0.551805\n",
      "1049   28.912  0.515136\n",
      "1050   29.168  0.440530\n",
      "1051   29.424  0.434738\n",
      "1052   29.680  0.406059\n",
      "1053   29.936  0.459386\n",
      "1054   30.192  0.474793\n",
      "1055   30.448  0.636510\n",
      "1056   30.704  0.663603\n",
      "1057   30.960  0.555840\n",
      "1058   31.216  0.679863\n",
      "1059   31.472  0.609576\n",
      "1060   31.728  0.704637\n",
      "1061   31.984  0.743290\n",
      "1062   32.240  0.737175\n",
      "1063   32.496  0.674294\n",
      "1064   32.752  0.560463\n",
      "1065   33.008  0.386170\n",
      "1066   33.264  0.302771\n",
      "1067   33.520  0.333099\n",
      "1068   33.776  0.340671\n",
      "1069   34.032  0.293020\n",
      "1070   34.288  0.494474\n",
      "1071   34.544  0.445296\n",
      "1072   34.800  0.469590\n",
      "1073   35.056  0.286729\n",
      "1074   35.312  0.482440\n",
      "1075   35.568  0.461536\n",
      "1076   35.824  0.561373\n",
      "1077   36.080  0.449653\n",
      "1078   36.336  0.385301\n",
      "1079   36.592  0.373021\n",
      "1080   36.848  0.358648\n",
      "1081   37.104  0.312261\n",
      "1082   37.360  0.462174\n",
      "1083   37.616  0.714354\n",
      "1084   37.872  0.655503\n",
      "1085   38.128  0.617940\n",
      "1086   38.384  0.663617\n",
      "1087   38.640  0.818660\n",
      "1088   38.896  0.817671\n",
      "1089   39.152  0.765675\n",
      "1090   39.408  0.650947\n",
      "1091   39.664  0.570331\n",
      "1092   39.920  0.541520\n",
      "1093   40.176  0.624268\n",
      "1094   40.432  0.557202\n",
      "1095   40.688  0.565169\n",
      "1096   40.944  0.527827\n",
      "1097   41.200  0.589605\n",
      "1098   41.456  0.695359\n",
      "1099   41.712  0.332212\n",
      "1100   41.968  0.287373\n",
      "1101   42.224  0.216297\n",
      "1102   42.480  0.321746\n",
      "1103   42.736  0.380963\n",
      "1104   42.992  0.548429\n",
      "1105   43.248  0.576805\n",
      "1106   43.504  0.465066\n",
      "1107   43.760  0.407128\n",
      "1108   44.016  0.485765\n",
      "1109   44.272  0.540768\n",
      "1110   44.528  0.636241\n",
      "1111   44.784  0.681144\n",
      "1112   45.040  0.697544\n",
      "1113   45.296  0.725025\n",
      "1114   45.552  0.673687\n",
      "1115   45.808  0.458788\n",
      "1116   46.064  0.471663\n",
      "1117   46.320  0.662338\n",
      "1118   46.576  0.691971\n",
      "1119   46.832  0.592398\n",
      "1120   47.088  0.691900\n",
      "1121   47.344  0.874166\n",
      "1122   47.600  0.719659\n",
      "1123   47.856  0.734973\n",
      "1124   48.112  0.576919\n",
      "1125   48.368  0.570059\n",
      "1126   48.624  0.681083\n",
      "1127   48.880  0.658947\n",
      "1128   49.136  0.669953\n",
      "1129   49.392  0.714740\n",
      "1130   49.648  0.657309\n",
      "1131   49.904  0.576153\n",
      "1132   50.160  0.591275\n",
      "1133   50.416  0.641424\n",
      "1134   50.672  0.720513\n",
      "1135   50.928  0.619673\n",
      "1136   51.184  0.525679\n",
      "1137   51.440  0.462858\n",
      "1138   51.696  0.514202\n",
      "1139   51.952  0.620171\n",
      "1140   52.208  0.485953\n",
      "1141   52.464  0.432656\n",
      "1142   52.720  0.436430\n",
      "1143   52.976  0.474326\n",
      "1144   53.232  0.375230\n",
      "1145   53.488  0.431145\n",
      "1146   53.744  0.440814\n",
      "1147   54.000  0.416854\n",
      "1148   54.256  0.347491\n",
      "1149   54.512  0.346660\n",
      "1150   54.768  0.324635\n",
      "1151   55.024  0.302788\n",
      "1152   55.280  0.360075\n",
      "1153   55.536  0.293705\n",
      "1154   55.792  0.367464\n",
      "1155   56.048  0.236387\n",
      "1156   56.304  0.219795\n",
      "1157   56.560  0.265009\n",
      "1158   56.816  0.302240\n",
      "1159   57.072  0.263376\n",
      "1160   57.328  0.204042\n",
      "1161   57.584  0.267020\n",
      "1162   57.840  0.290512\n",
      "1163   58.096  0.281054\n",
      "1164   58.352  0.202175\n",
      "1165   58.608  0.212794\n",
      "1166   58.864  0.223396\n",
      "1167   59.120  0.170112\n",
      "1168   59.376  0.187734\n",
      "1169   59.632  0.156188\n",
      "1170   59.888  0.191944\n",
      "1171   60.144  0.210551\n",
      "1172   60.400  0.128788\n",
      "1173   60.656  0.076675\n",
      "1174   60.912  0.228341\n",
      "1175   61.168  0.227889\n",
      "1176   61.424  0.227572\n",
      "1177   61.680  0.321228\n",
      "1178   61.936  0.375612\n",
      "1179   62.192  0.474263\n",
      "1180   62.448  0.339640\n",
      "1181   62.704  0.389079\n",
      "1182   62.960  0.319894\n",
      "1183   63.216  0.342738\n",
      "1184   63.472  0.413755\n",
      "1185   63.728  0.396209\n",
      "1186   63.984  0.311399\n",
      "1187   64.240  0.404985\n",
      "1188   64.496  0.427329\n",
      "1189   64.752  0.401537\n",
      "1190   65.008  0.313491\n",
      "1191   65.264  0.162916\n",
      "1192   65.520  0.223348\n",
      "1193   65.776  0.307406\n",
      "1194   66.032  0.402619\n",
      "1195   66.288  0.304378\n",
      "1196   66.544  0.230151\n",
      "1197   66.800  0.199320\n",
      "1198   67.056  0.227312\n",
      "1199   67.312  0.283736\n",
      "1200   67.568  0.278678\n",
      "1201   67.824  0.349838\n",
      "1202   68.080  0.351401\n",
      "1203   68.336  0.364843\n",
      "1204   68.592  0.270630\n",
      "1205   68.848  0.227623\n",
      "1206   69.104  0.255648\n",
      "1207   69.360  0.227609\n",
      "1208   69.616  0.221254\n",
      "1209   69.872  0.265397\n",
      "1210   70.128  0.225610\n",
      "1211   70.384  0.269003\n",
      "1212   70.640  0.235843\n",
      "1213   70.896  0.254497\n",
      "1214   71.152  0.211123\n",
      "1215   71.408  0.192204\n",
      "1216   71.664  0.163718\n",
      "1217   71.920  0.085777\n",
      "1218   72.176  0.136121\n",
      "1219   72.432  0.187756\n",
      "1220   72.688  0.187289\n",
      "1221   72.944  0.176329\n",
      "1222   73.200  0.199793\n",
      "1223   73.456  0.162825\n",
      "1224   73.712  0.173952\n",
      "1225   73.968  0.154517\n",
      "1226   74.224  0.211948\n",
      "1227   74.480  0.193172\n",
      "1228   74.736  0.266559\n",
      "1229   74.992  0.237111\n",
      "1230   75.248  0.262662\n",
      "1231   75.504  0.249191\n",
      "1232   75.760  0.261514\n",
      "1233   76.016  0.262014\n",
      "1234   76.272  0.250949\n",
      "1235   76.528  0.243808\n",
      "1236   76.784  0.274491\n",
      "1237   77.040  0.275986\n",
      "1238   77.296  0.280575\n",
      "1239   77.552  0.266841\n",
      "1240   77.808  0.236318\n",
      "1241   78.064  0.223596\n",
      "1242   78.320  0.234879\n",
      "1243   78.576  0.177897\n",
      "1244   78.832  0.126800\n",
      "1245   79.088  0.171793\n",
      "1246   79.344  0.163448\n",
      "1247   79.600  0.154145\n",
      "1248   79.856  0.193912\n",
      "1249   80.112  0.190436\n",
      "1250   80.368  0.248031\n",
      "1251   80.624  0.161157\n",
      "1252   80.880  0.136420\n",
      "1253   81.136  0.119822\n",
      "1254   81.392  0.200979\n",
      "1255   81.648  0.213050\n",
      "1256   81.904  0.219777\n",
      "1257   82.160  0.259594\n",
      "1258   82.416  0.254231\n",
      "1259   82.672  0.195388\n",
      "1260   82.928  0.192509\n",
      "1261   83.184  0.161531\n",
      "1262   83.440  0.179061\n",
      "1263   83.696  0.158094\n",
      "1264   83.952  0.171943\n",
      "1265   84.208  0.176174\n",
      "1266   84.464  0.194335\n",
      "1267   84.720  0.224538\n",
      "1268   84.976  0.237709\n",
      "1269   85.232  0.186302\n",
      "1270   85.488  0.211060\n",
      "1271   85.744  0.235600\n",
      "1272   86.000  0.202115\n",
      "1273   86.256  0.181163\n",
      "1274   86.512  0.151104\n",
      "1275   86.768  0.157679\n",
      "1276   87.024  0.139053\n",
      "1277   87.280  0.059944\n",
      "1278   87.536  0.111166\n",
      "1279   87.792  0.120053\n",
      "1280   88.048  0.093062\n",
      "1281   88.304  0.144018\n",
      "1282   88.560  0.178730\n",
      "1283   88.816  0.147224\n",
      "1284   89.072  0.181601\n",
      "1285   89.328  0.121212\n",
      "1286   89.584  0.158744\n",
      "1287   89.840  0.132354\n",
      "1288   90.096  0.203380\n",
      "1289   90.352  0.177274\n",
      "1290   90.608  0.164619\n",
      "1291   90.864  0.185675\n",
      "1292   91.120  0.156454\n",
      "1293   91.376  0.126315\n",
      "1294   91.632  0.132012\n",
      "1295   91.888  0.101280\n",
      "1296   92.144  0.109189\n",
      "1297   92.400  0.102101\n",
      "1298   92.656  0.094743\n",
      "1299   92.912  0.050010\n",
      "1300   93.168  0.079903\n",
      "1301   93.424  0.066876\n",
      "1302   93.680  0.089639\n",
      "1303   93.936  0.027586\n",
      "1304   94.192  0.077918\n",
      "1305   94.448  0.090313\n",
      "1306   94.704  0.096317\n",
      "1307   94.960  0.142925\n",
      "1308   95.216  0.226895\n",
      "1309   95.472  0.164525\n",
      "1310   95.728  0.145265\n",
      "1311   95.984  0.171417\n",
      "1312   96.240  0.168993\n",
      "1313   96.496  0.158087\n",
      "1314   96.752  0.165509\n",
      "1315   97.008  0.171942\n",
      "1316   97.264  0.077778\n",
      "1317   97.520  0.029051\n",
      "1318   97.776  0.053309\n",
      "1319   98.032  0.094534\n",
      "1320   98.288  0.083318\n",
      "1321   98.544  0.087169\n",
      "1322   98.800  0.146908\n",
      "1323   99.056  0.182707\n",
      "1324   99.312  0.189380\n",
      "1325   99.568  0.188926\n",
      "1326   99.824  0.172315\n",
      "1327  100.080  0.097717\n",
      "1328  100.336  0.138579\n",
      "1329  100.592  0.123992\n",
      "1330  100.848  0.158690\n",
      "1331  101.104  0.142559\n",
      "1332  101.360  0.131934\n",
      "1333  101.616  0.127573\n",
      "1334  101.872  0.102077\n",
      "1335  102.128  0.052524\n",
      "1336  102.384  0.130655\n",
      "1337  102.640  0.123467\n",
      "1338  102.896  0.100722\n",
      "1339  103.152  0.128440\n",
      "1340  103.408  0.089996\n",
      "1341  103.664  0.104067\n",
      "1342  103.920  0.095471\n",
      "1343  104.176  0.102841\n",
      "1344  104.432  0.093637\n",
      "1345  104.688  0.095321\n",
      "1346  104.944  0.136204\n",
      "1347  105.200  0.133169\n",
      "1348  105.456  0.133230\n",
      "1349  105.712  0.142662\n",
      "1350  105.968  0.175856\n",
      "1351  106.224  0.112386\n",
      "1352  106.480  0.106384\n",
      "1353  106.736  0.081565\n",
      "1354  106.992  0.073617\n",
      "1355  107.248  0.065726\n",
      "1356  107.504  0.094128\n",
      "1357  107.760  0.088529\n",
      "1358  108.016  0.087451\n",
      "1359  108.272  0.103553\n",
      "1360  108.528  0.039870\n",
      "1361  108.784  0.104234\n",
      "1362  109.040  0.077108\n",
      "1363  109.296  0.080709\n",
      "1364  109.552  0.119772\n",
      "1365  109.808  0.115379\n",
      "1366  110.064  0.122463\n",
      "1367  110.320  0.073761\n",
      "1368  110.576  0.040779\n",
      "1369  110.832  0.059860\n",
      "1370  111.088  0.010043\n",
      "1371  111.344  0.040705\n",
      "1372  111.600  0.054348\n",
      "1373  111.856  0.055802\n",
      "1374  112.112  0.056539\n",
      "1375  112.368  0.056963\n",
      "1376  112.624  0.069499\n",
      "1377  112.880  0.068708\n",
      "1378  113.136  0.032956\n",
      "1379  113.392  0.019941\n",
      "1380  113.648  0.040617\n",
      "1381  113.904  0.076263\n",
      "1382  114.160  0.077318\n",
      "1383  114.416  0.058559\n",
      "1384  114.672  0.063948\n",
      "1385  114.928  0.045154\n",
      "1386  115.184  0.032906\n",
      "1387  115.440  0.031197\n",
      "1388  115.696  0.090419\n",
      "1389  115.952  0.045841\n",
      "1390  116.208  0.043034\n",
      "1391  116.464  0.049876\n",
      "1392  116.720  0.048791\n",
      "1393  116.976  0.071253\n",
      "1394  117.232  0.008455\n",
      "1395  117.488  0.047034\n",
      "1396  117.744  0.019455\n",
      "1397  118.000  0.030308\n",
      "1398  118.256  0.077364\n",
      "1399  118.512  0.032394\n",
      "1400  118.768  0.083068\n",
      "1401  119.024  0.078389\n",
      "1402  119.280  0.057445\n",
      "1403  119.536  0.110920\n",
      "1404  119.792  0.080171\n",
      "1405  120.048  0.078922\n",
      "1406  120.304  0.083375\n",
      "1407  120.560  0.079700\n",
      "1408  120.816  0.108167\n",
      "1409  121.072  0.063700\n",
      "1410  121.328  0.061184\n",
      "1411  121.584  0.064748\n",
      "1412  121.840  0.066532\n",
      "1413  122.096  0.033573\n",
      "1414  122.352  0.013987\n",
      "1415  122.608  0.026216\n",
      "1416  122.864  0.041537\n",
      "1417  123.120  0.003627\n",
      "1418  123.376  0.039200\n",
      "1419  123.632  0.017188\n",
      "1420  123.888  0.056573\n",
      "1421  124.144  0.029726\n",
      "1422  124.400  0.042849\n",
      "1423  124.656  0.036519\n",
      "1424  124.912  0.018593\n",
      "1425  125.168  0.023492\n",
      "1426  125.424  0.037472\n",
      "1427  125.680  0.053649\n",
      "1428  125.936  0.006275\n",
      "1429  126.192  0.017719\n",
      "1430  126.448  0.014731\n",
      "1431  126.704  0.049700\n",
      "1432  126.960  0.054544\n",
      "1433  127.216  0.025659\n",
      "1434  127.472  0.041401\n",
      "1435  127.728  0.026351\n",
      "1436  127.984  0.027794\n",
      "1437  128.240  0.015660\n",
      "1438  128.496  0.008797\n",
      "1439  128.752  0.038103\n",
      "1440  129.008  0.044803\n",
      "1441  129.264  0.000683\n",
      "1442  129.520  0.045159\n",
      "1443  129.776  0.030406\n",
      "1444  130.032  0.035371\n",
      "1445  130.288 -0.013417\n",
      "1446  130.544  0.040101\n",
      "1447  130.800  0.027622\n",
      "1448  131.056  0.052233\n",
      "1449  131.312  0.025017\n",
      "1450  131.568  0.016838\n",
      "1451  131.824  0.018669\n",
      "1452  132.080  0.014957\n",
      "1453  132.336  0.024904\n",
      "1454  132.592  0.056278\n",
      "1455  132.848  0.004043\n",
      "1456  133.104  0.038755\n",
      "1457  133.360  0.048973\n",
      "1458  133.616  0.040989\n",
      "1459  133.872  0.024688\n",
      "1460  134.128  0.010013\n",
      "1461  134.384  0.013761\n",
      "1462  134.640  0.042071\n",
      "1463  134.896  0.015106\n",
      "1464  135.152  0.045028\n",
      "1465  135.408  0.015093\n",
      "1466  135.664 -0.015348\n",
      "1467  135.920  0.018090\n",
      "1468  136.176  0.059969\n",
      "1469  136.432  0.018337\n",
      "1470  136.688  0.056206\n",
      "1471  136.944  0.048459\n",
      "1472  137.200  0.043344\n",
      "1473  137.456  0.039611\n",
      "1474  137.712  0.038247\n",
      "1475  137.968  0.008651\n",
      "1476  138.224  0.025084\n",
      "1477  138.480  0.031731\n",
      "1478  138.736  0.007885\n",
      "1479  138.992  0.011923\n",
      "1480  139.248  0.048674\n",
      "1481  139.504  0.035971\n",
      "1482  139.760  0.016697\n",
      "1483  140.016  0.040281\n",
      "1484  140.272  0.048290\n",
      "1485  140.528  0.033174\n",
      "1486  140.784  0.025486\n",
      "1487  141.040  0.036998\n",
      "1488  141.296  0.050397\n",
      "1489  141.552  0.022677\n",
      "1490  141.808 -0.004019\n",
      "1491  142.064  0.034511\n",
      "1492  142.320  0.024545\n",
      "1493  142.576  0.060773\n",
      "1494  142.832  0.036244\n",
      "1495  143.088  0.008492\n",
      "1496  143.344  0.047249\n",
      "1497  143.600  0.040458\n",
      "1498  143.856  0.044169\n",
      "1499  144.112  0.003566\n",
      "1500  144.368  0.059528\n",
      "1501  144.624  0.011280\n",
      "1502  144.880  0.016914\n",
      "1503  145.136  0.018358\n",
      "1504  145.392  0.004741\n",
      "1505  145.648  0.049809\n",
      "1506  145.904  0.024227\n",
      "1507  146.160  0.040011\n",
      "1508  146.416  0.028369\n",
      "1509  146.672  0.068906\n",
      "1510  146.928  0.009369\n",
      "1511  147.184  0.025047\n",
      "1512  147.440  0.026060\n",
      "1513  147.696  0.053653\n",
      "1514  147.952 -0.006332\n",
      "1515  148.208  0.024677\n",
      "1516  148.464  0.045315\n",
      "1517  148.720  0.050832\n",
      "1518  148.976  0.037864\n",
      "1519  149.232  0.042196\n",
      "1520  149.488  0.020120\n",
      "1521  149.744  0.035965\n",
      "1522  150.000  0.017221\n",
      "1523  150.256 -0.001319\n",
      "1524  150.512  0.022661\n",
      "1525  150.768  0.039891\n",
      "1526  151.024  0.016058\n",
      "1527  151.280 -0.009254\n",
      "1528  151.536  0.009007\n",
      "1529  151.792 -0.024097\n",
      "1530  152.048  0.001165\n",
      "1531  152.304  0.009081\n",
      "1532  152.560  0.029637\n",
      "1533  152.816  0.019634\n",
      "1534  153.072  0.010786\n",
      "1535  153.328 -0.001827\n",
      "1536  153.584  0.025714\n",
      "1537  153.840  0.014906\n",
      "1538  154.096  0.010856\n",
      "1539  154.352 -0.016795\n",
      "1540  154.608 -0.002708\n",
      "1541  154.864  0.008796\n",
      "1542  155.120  0.013421\n",
      "1543  155.376  0.048570\n",
      "1544  155.632  0.032038\n",
      "1545  155.888  0.025320\n",
      "1546  156.144  0.044974\n",
      "1547  156.400  0.023154\n",
      "1548  156.656  0.021810\n",
      "1549  156.912  0.021312\n",
      "1550  157.168  0.016916\n",
      "1551  157.424  0.035159\n",
      "1552  157.680  0.010424\n",
      "1553  157.936  0.017100\n",
      "1554  158.192  0.032921\n",
      "1555  158.448 -0.002973\n",
      "1556  158.704  0.009497\n",
      "1557  158.960  0.027163\n",
      "1558  159.216  0.025447\n",
      "1559  159.472  0.033926\n",
      "1560  159.728 -0.007734\n",
      "1561  159.984  0.014616\n",
      "1562  160.240  0.014794\n",
      "1563  160.496  0.040989\n",
      "1564  160.752  0.023570\n",
      "1565  161.008  0.015244\n",
      "1566  161.264  0.021231\n",
      "1567  161.520  0.002730\n",
      "1568  161.776 -0.005158\n",
      "1569  162.032  0.023949\n",
      "1570  162.288  0.015404\n",
      "1571  162.544  0.006575\n",
      "1572  162.800  0.022734\n",
      "1573  163.056  0.015872\n",
      "1574  163.312 -0.016388\n",
      "1575  163.568 -0.010555\n",
      "1576  163.824  0.016260\n",
      "1577  164.080  0.015754\n",
      "1578  164.336  0.003288\n",
      "1579  164.592 -0.023006\n",
      "1580  164.848  0.021386\n",
      "1581  165.104  0.006443\n",
      "1582  165.360 -0.024345\n",
      "1583  165.616 -0.019559\n",
      "1584  165.872  0.024733\n",
      "1585  166.128  0.033027\n",
      "1586  166.384  0.013033\n",
      "1587  166.640  0.013994\n",
      "1588  166.896  0.007388\n",
      "1589  167.152  0.023514\n",
      "1590  167.408 -0.004312\n",
      "1591  167.664  0.013826\n",
      "1592  167.920  0.023616\n",
      "1593  168.176  0.044994\n",
      "1594  168.432 -0.026777\n",
      "1595  168.688  0.028055\n",
      "1596  168.944 -0.007637\n",
      "1597  169.200  0.025099\n",
      "1598  169.456  0.010279\n",
      "1599  169.712  0.045917\n",
      "1600  169.968 -0.003448\n",
      "1601  170.224 -0.002800\n",
      "1602  170.480  0.002787\n",
      "1603  170.736  0.016878\n",
      "1604  170.992  0.024652\n",
      "1605  171.248  0.009273\n",
      "1606  171.504  0.015649\n",
      "1607  171.760  0.016340\n",
      "1608  172.016  0.004792\n",
      "1609  172.272  0.030263\n",
      "1610  172.528  0.010636\n",
      "1611  172.784  0.006112\n",
      "1612  173.040  0.030106\n",
      "1613  173.296  0.050957\n",
      "1614  173.552 -0.004266\n",
      "1615  173.808  0.042231\n",
      "1616  174.064  0.007456\n",
      "1617  174.320 -0.009989\n",
      "1618  174.576  0.006285\n",
      "1619  174.832  0.010771\n",
      "1620  175.088 -0.010153\n",
      "1621  175.344  0.017303\n",
      "1622  175.600  0.025017\n",
      "1623  175.856  0.043438\n",
      "1624  176.112  0.009977\n",
      "1625  176.368  0.027793\n",
      "1626  176.624 -0.000432\n",
      "1627  176.880  0.008222\n",
      "1628  177.136 -0.014162\n",
      "1629  177.392  0.012463\n",
      "1630  177.648 -0.019463\n",
      "1631  177.904 -0.015019\n",
      "1632  178.160  0.017179\n",
      "1633  178.416  0.017532\n",
      "1634  178.672  0.005531\n",
      "1635  178.928  0.008064\n"
     ]
    }
   ],
   "source": [
    "limited_data_1 = swift.lc_limiter(name)  # Limiting by T_100\n",
    "limited_data_2 = swift.lc_limiter(name, limits=(durations_times[0, 1], durations_times[0, 2]))  # By values\n",
    "print(f\"Are both arrays equal? Answer={np.array_equal(limited_data_1, limited_data_2)}\")\n",
    "print(limited_data_1)\n",
    "del limited_data_2  # Delete unused variables to handle memory usage"
   ]
  },
  {
   "cell_type": "markdown",
   "metadata": {
    "collapsed": false,
    "jupyter": {
     "outputs_hidden": false
    }
   },
   "source": [
    "Note that both methods are equivalent, and the lc values are now between start and end times for $T_{100}$. Graphically, the lc out of $T_{100}$ is:"
   ]
  },
  {
   "cell_type": "code",
   "execution_count": 129,
   "metadata": {
    "ExecuteTime": {
     "end_time": "2023-05-21T21:01:43.257900181Z",
     "start_time": "2023-05-21T21:01:42.308578146Z"
    },
    "collapsed": false,
    "jupyter": {
     "outputs_hidden": false
    }
   },
   "outputs": [
    {
     "data": {
      "image/png": "[encoded data removed]",
      "text/plain": [
       "<Figure size 960x720 with 1 Axes>"
      ]
     },
     "metadata": {},
     "output_type": "display_data"
    }
   ],
   "source": [
    "axis_2 = swift.plot_any_grb(name, t=100)  # Plot Light Curve out of T_100"
   ]
  },
  {
   "cell_type": "markdown",
   "metadata": {
    "collapsed": false,
    "jupyter": {
     "outputs_hidden": false
    }
   },
   "source": [
    "The next step is to do this for all the samples of GRBs, to get a much faster performance of execution, we can use the `parallel_lc_limiter` function:\n",
    "\n",
    ">[!IMPORTANT]\n",
    "> The execution time of this function depends entirely on the query time of the data. It is strongly recommended to download on your local computer the data from Swift/BAT and use it locally (see the [download data notebook](https://github.com/KenethGarcia/ClassiPyGRB/blob/4e93f0ea26307a01469e815001d534f4a9a077a9/docs/2.BAT_Data_Download.ipynb)). Otherwise, each one of the workers initialized by **ClassiPyGRB** will query the data directly from Swift/BAT website to limit light curves, and this can take a long time depending on your internet connection and server availability. The following code lines have been executed using a local data folder, but you can change it using the _root_path_ argument in the _SWIFT_ instance."
   ]
  },
  {
   "cell_type": "code",
   "execution_count": 130,
   "metadata": {},
   "outputs": [],
   "source": [
    "pd.options.display.max_rows = 4000"
   ]
  },
  {
   "cell_type": "code",
   "execution_count": 131,
   "metadata": {
    "ExecuteTime": {
     "end_time": "2023-05-21T21:01:52.606698064Z",
     "start_time": "2023-05-21T21:01:43.258422831Z"
    },
    "collapsed": false,
    "jupyter": {
     "outputs_hidden": false
    }
   },
   "outputs": [
    {
     "name": "stderr",
     "output_type": "stream",
     "text": [
      "LC limiting: 100%|█████████████████████████| 1554/1554 [00:42<00:00, 36.15GRB/s]\n"
     ]
    },
    {
     "name": "stdout",
     "output_type": "stream",
     "text": [
      "        Names t_start    t_end       Error\n",
      "0  GRB041219B                   ValueError\n",
      "0   GRB050202   0.004    0.132    Length=0\n",
      "0  GRB050509B     0.0    0.028    Length=0\n",
      "0   GRB050813  -0.024    0.412    Length=1\n",
      "0   GRB050906                   ValueError\n",
      "0   GRB050925  -0.036    0.068    Length=1\n",
      "0  GRB051105A  -0.004    0.064    Length=1\n",
      "0   GRB060218                   ValueError\n",
      "0  GRB060502B  -0.004    0.172    Length=1\n",
      "0  GRB060510A  -6.752   16.748  Only zeros\n",
      "0   GRB060728                   ValueError\n",
      "0   GRB060801    0.04    0.588    Length=2\n",
      "0   GRB061027                   ValueError\n",
      "0   GRB061217   0.028    0.284    Length=1\n",
      "0   GRB061218                   ValueError\n",
      "0   GRB070126                   ValueError\n",
      "0   GRB070209     0.0    0.084    Length=1\n",
      "0  GRB070429B  -0.208    0.328    Length=2\n",
      "0  GRB070724A  -0.028     0.46    Length=2\n",
      "0  GRB070810B  -0.008    0.076    Length=0\n",
      "0   GRB070923  -0.004     0.04    Length=0\n",
      "0  GRB071112B  -0.048    0.272    Length=1\n",
      "0   GRB080121     0.0    0.496    Length=2\n",
      "0   GRB080315                   ValueError\n",
      "0  GRB080822B                   ValueError\n",
      "0   GRB080919   0.092     0.76    Length=2\n",
      "0   GRB081017                   ValueError\n",
      "0   GRB081101     0.0     0.22    Length=1\n",
      "0  GRB081105A     0.0      9.6  Only zeros\n",
      "0  GRB081226A  -0.052    0.452    Length=2\n",
      "0  GRB090417A  -0.004     0.08    Length=1\n",
      "0   GRB090515   0.008    0.056    Length=1\n",
      "0  GRB090621B  -0.028    0.144    Length=1\n",
      "0  GRB091109B  -0.004    0.332    Length=1\n",
      "0  GRB100117A  -0.008    0.316    Length=1\n",
      "0  GRB100206A  -0.008    0.124    Length=1\n",
      "0  GRB100216A     0.0    0.272    Length=1\n",
      "0  GRB100224A     0.0    0.484    Length=2\n",
      "0  GRB100625A  -0.068    0.328    Length=1\n",
      "0  GRB100628A  -0.004    0.036    Length=0\n",
      "0  GRB100702A  -0.304    0.208    Length=2\n",
      "0  GRB101201A     0.0     67.2  Only zeros\n",
      "0  GRB101224A   0.024    0.296    Length=1\n",
      "0  GRB101225A                   ValueError\n",
      "0  GRB110420B  -0.004      0.1    Length=0\n",
      "0  GRB111020A   -0.04    0.392    Length=1\n",
      "0  GRB111117A   0.024     0.52    Length=2\n",
      "0  GRB111126A     0.0    0.712    Length=2\n",
      "0  GRB120218A -26.696    8.312  Only zeros\n",
      "0  GRB120229A  -0.008    0.268    Length=1\n",
      "0  GRB120305A     0.0    0.128    Length=0\n",
      "0  GRB130305A     0.0     57.6  Only zeros\n",
      "0  GRB130313A   0.012    0.216    Length=1\n",
      "0  GRB130515A  -0.036    0.332    Length=1\n",
      "0  GRB130603B   0.008     0.26    Length=1\n",
      "0  GRB130626A  -0.012     0.18    Length=1\n",
      "0  GRB130822A  -0.004    0.044    Length=1\n",
      "0  GRB130912A   0.004     0.32    Length=2\n",
      "0  GRB131105A   6.792  125.336  Only zeros\n",
      "0  GRB140311B                   ValueError\n",
      "0  GRB140320A  -0.176    0.464    Length=2\n",
      "0  GRB140516A  -0.024    0.296    Length=2\n",
      "0  GRB140606A   -0.04    0.352    Length=2\n",
      "0  GRB140622A  -0.024    0.128    Length=0\n",
      "0  GRB140903A  -0.012    0.348    Length=2\n",
      "0  GRB141102A     0.0     14.4  Only zeros\n",
      "0  GRB141212A     0.0    0.336    Length=2\n",
      "0  GRB150101A     0.0    0.068    Length=1\n",
      "0  GRB150101B     0.0    0.016    Length=0\n",
      "0  GRB150301A     0.0     0.56    Length=2\n",
      "0  GRB150423A   0.008     0.24    Length=1\n",
      "0  GRB150424A                   IndexError\n",
      "0  GRB150710A   0.016    0.224    Length=1\n",
      "0  GRB150710B                   ValueError\n",
      "0  GRB151107A                   ValueError\n",
      "0  GRB151127A   0.016     0.22    Length=1\n",
      "0  GRB151228A  -0.036    0.276    Length=2\n",
      "0  GRB160408A   0.016    0.372    Length=2\n",
      "0  GRB160411A    0.06    0.452    Length=1\n",
      "0  GRB160501A                   ValueError\n",
      "0  GRB160525A                   ValueError\n",
      "0  GRB160525B   0.016    0.332    Length=1\n",
      "0  GRB160601A  -0.024     0.12    Length=0\n",
      "0  GRB160612A     0.0    0.308    Length=2\n",
      "0  GRB160624A   0.048    0.304    Length=1\n",
      "0  GRB160714A   0.028      0.4    Length=2\n",
      "0  GRB160821B     0.0    0.536    Length=2\n",
      "0  GRB160927A     0.0     0.56    Length=2\n",
      "0  GRB161104A  -0.016      0.1    Length=1\n",
      "0  GRB170112A  -0.004    0.056    Length=0\n",
      "0  GRB170127B   0.048     0.64    Length=2\n",
      "0  GRB170325A     0.0    0.392    Length=1\n",
      "0  GRB170428A   0.148    0.448    Length=1\n",
      "0  GRB170524A     0.0     0.12    Length=0\n",
      "0  GRB170906B -11.776    7.424    Length=0\n",
      "0  GRB180402A   0.052    0.264    Length=1\n",
      "0  GRB180718A     0.0      0.1    Length=1\n",
      "0  GRB181123B   0.032    0.312    Length=1\n",
      "0  GRB190326A     0.0    0.104    Length=1\n",
      "0  GRB190427A  -0.008    0.312    Length=1\n",
      "0  GRB191031D  -0.032    0.308    Length=1\n",
      "0  GRB200324A                   ValueError\n",
      "0  GRB200411A   -0.02    0.248    Length=1\n",
      "0  GRB201006A  -0.008    0.548    Length=2\n",
      "0  GRB201221D  -0.056    0.168    Length=1\n",
      "0  GRB210119A     0.0     0.08    Length=1\n",
      "0  GRB210726A  -0.004    0.424    Length=2\n",
      "0  GRB210919A   0.052    0.236    Length=1\n",
      "0  GRB220412B  -0.032    0.156    Length=1\n"
     ]
    }
   ],
   "source": [
    "limited_data, GRB_names, errors = swift.parallel_lc_limiter(GRB_names)\n",
    "print(errors)"
   ]
  },
  {
   "cell_type": "markdown",
   "metadata": {
    "collapsed": false,
    "jupyter": {
     "outputs_hidden": false
    }
   },
   "source": [
    "As you see, the function returns a list of limited arrays and errors for all GRBs. In this case, 52 GRBs have any of the following errors:\n",
    "* _FileNotFoundError_ if GRB does not have any data file downloaded in the selected resolution.\n",
    "* _ValueError_ if the code can't get any limit values.\n",
    "* _IndexError_ if the GRB does not appear in the `summary_burst_durations` table.\n",
    "* _Length={value}_ if the limited GRB data has less than three discrete points.\n",
    "* _Only zeros_ if the limited GRB data only has zeros.\n",
    "\n",
    "Additionally, the second argument returned by `parallel_lc_limiter` is a GRB names array indicating the order of results (the first argument returned). This order is now our `GRB_names` variable because it does not have the error names.\n",
    "\n",
    "To check if the `parallel_lc_limiter` instance is doing its job well, we are going to compare (for the GRB selected before) if the data stored in _limited_data_1_ and obtained in parallelize are equal:"
   ]
  },
  {
   "cell_type": "code",
   "execution_count": 132,
   "metadata": {},
   "outputs": [
    {
     "data": {
      "text/plain": [
       "list"
      ]
     },
     "execution_count": 132,
     "metadata": {},
     "output_type": "execute_result"
    }
   ],
   "source": [
    "type(limited_data)"
   ]
  },
  {
   "cell_type": "code",
   "execution_count": 133,
   "metadata": {},
   "outputs": [
    {
     "data": {
      "text/plain": [
       "(100, 2)"
      ]
     },
     "execution_count": 133,
     "metadata": {},
     "output_type": "execute_result"
    }
   ],
   "source": [
    "limited_data[50].shape"
   ]
  },
  {
   "cell_type": "code",
   "execution_count": 134,
   "metadata": {
    "ExecuteTime": {
     "end_time": "2023-05-21T21:01:52.622589840Z",
     "start_time": "2023-05-21T21:01:52.590344373Z"
    },
    "collapsed": false,
    "jupyter": {
     "outputs_hidden": false
    }
   },
   "outputs": [
    {
     "name": "stdout",
     "output_type": "stream",
     "text": [
      "Are both arrays equal? Answer=True\n"
     ]
    }
   ],
   "source": [
    "random_index = GRB_names.index(name)  # Search random GRB in new GRB names list\n",
    "limited_data_random_GRB = limited_data[random_index]  # Extract limited values for random GRB\n",
    "print(f\"Are both arrays equal? Answer={np.array_equal(limited_data_1, limited_data_random_GRB)}\")\n",
    "del limited_data_1 # Delete unused variables to handle memory usage"
   ]
  },
  {
   "cell_type": "markdown",
   "metadata": {
    "collapsed": false,
    "jupyter": {
     "outputs_hidden": false
    }
   },
   "source": []
  },
  {
   "cell_type": "markdown",
   "metadata": {
    "collapsed": false,
    "jupyter": {
     "outputs_hidden": false
    }
   },
   "source": [
    "## Second step: Normalizing Light Curves\n",
    "\n",
    "To avoid t-SNE being distracted by the fluence value, it is needed to normalize our lc by total time-integrated flux. The `lc_normalize` instance does this job by using the Trapezoid's Rule in any array.\n",
    "\n",
    "This function receives as input the array to be normalized, and as an optional parameter (`base`), the reference column to normalize (by default, it uses the last column of the array). Using this function, it is possible to normalize any light curve using any Swift/BAT band as a reference. It returns essentially the normalized data array:"
   ]
  },
  {
   "cell_type": "code",
   "execution_count": 135,
   "metadata": {
    "ExecuteTime": {
     "end_time": "2023-05-21T21:01:52.623846297Z",
     "start_time": "2023-05-21T21:01:52.590981979Z"
    },
    "collapsed": false,
    "jupyter": {
     "outputs_hidden": false
    }
   },
   "outputs": [
    {
     "name": "stdout",
     "output_type": "stream",
     "text": [
      "     Time(s)  15-25keV\n",
      "0     -1.296  0.022127\n",
      "1     -1.040  0.042706\n",
      "2     -0.784  0.029512\n",
      "3     -0.528  0.033859\n",
      "4     -0.272  0.013201\n",
      "5     -0.016  0.019190\n",
      "6      0.240  0.032580\n",
      "7      0.496  0.023938\n",
      "8      0.752  0.027525\n",
      "9      1.008  0.039724\n",
      "10     1.264  0.024722\n",
      "11     1.520  0.010689\n",
      "12     1.776  0.016588\n",
      "13     2.032  0.013297\n",
      "14     2.288  0.014204\n",
      "15     2.544  0.015570\n",
      "16     2.800  0.032054\n",
      "17     3.056  0.032683\n",
      "18     3.312  0.012447\n",
      "19     3.568  0.009395\n",
      "20     3.824  0.011744\n",
      "21     4.080  0.007895\n",
      "22     4.336  0.007208\n",
      "23     4.592  0.006248\n",
      "24     4.848  0.002431\n",
      "25     5.104  0.002373\n",
      "26     5.360  0.002869\n",
      "27     5.616  0.002321\n",
      "28     5.872  0.001464\n",
      "29     6.128  0.004495\n",
      "30     6.384  0.004046\n",
      "31     6.640  0.006502\n",
      "32     6.896  0.005175\n",
      "33     7.152  0.002200\n",
      "34     7.408  0.002589\n",
      "35     7.664  0.004327\n",
      "36     7.920  0.002420\n",
      "37     8.176  0.000648\n",
      "38     8.432  0.001696\n",
      "39     8.688  0.002723\n",
      "40     8.944  0.007982\n",
      "41     9.200  0.007145\n",
      "42     9.456 -0.000073\n",
      "43     9.712  0.004360\n",
      "44     9.968  0.003297\n",
      "45    10.224  0.006941\n",
      "46    10.480  0.006898\n",
      "47    10.736  0.017609\n",
      "48    10.992  0.008323\n",
      "49    11.248  0.007574\n",
      "50    11.504  0.010744\n",
      "51    11.760  0.007981\n",
      "52    12.016  0.011373\n",
      "53    12.272  0.010814\n",
      "54    12.528  0.007778\n",
      "55    12.784  0.006440\n",
      "56    13.040  0.007823\n",
      "57    13.296  0.006570\n",
      "58    13.552  0.010483\n",
      "59    13.808  0.009475\n",
      "60    14.064  0.004058\n",
      "61    14.320  0.006340\n",
      "62    14.576  0.004693\n",
      "63    14.832  0.003584\n",
      "64    15.088  0.005937\n",
      "65    15.344  0.003957\n",
      "66    15.600  0.004326\n",
      "67    15.856  0.004214\n",
      "68    16.112  0.005463\n",
      "69    16.368  0.005542\n",
      "70    16.624  0.003800\n",
      "71    16.880  0.007309\n",
      "72    17.136  0.011809\n",
      "73    17.392  0.014299\n",
      "74    17.648  0.016002\n",
      "75    17.904  0.017983\n",
      "76    18.160  0.015196\n",
      "77    18.416  0.011175\n",
      "78    18.672  0.007677\n",
      "79    18.928  0.007545\n",
      "80    19.184  0.010870\n",
      "81    19.440  0.016653\n",
      "82    19.696  0.014168\n",
      "83    19.952  0.017619\n",
      "84    20.208  0.011045\n",
      "85    20.464  0.009808\n",
      "86    20.720  0.011221\n",
      "87    20.976  0.014874\n",
      "88    21.232  0.016017\n",
      "89    21.488  0.019318\n",
      "90    21.744  0.012229\n",
      "91    22.000  0.009419\n",
      "92    22.256  0.014295\n",
      "93    22.512  0.009885\n",
      "94    22.768  0.005792\n",
      "95    23.024  0.006698\n",
      "96    23.280  0.001989\n",
      "97    23.536  0.003468\n",
      "98    23.792  0.001885\n",
      "99    24.048  0.003110\n",
      "100   24.304  0.003048\n",
      "101   24.560  0.003290\n",
      "102   24.816  0.005604\n",
      "103   25.072  0.006415\n",
      "104   25.328  0.009798\n",
      "105   25.584  0.009870\n",
      "106   25.840  0.008649\n",
      "107   26.096  0.010926\n",
      "108   26.352  0.012300\n",
      "109   26.608  0.013922\n",
      "110   26.864  0.013174\n",
      "111   27.120  0.012461\n",
      "112   27.376  0.010285\n",
      "113   27.632  0.009022\n",
      "114   27.888  0.005596\n",
      "115   28.144  0.006919\n",
      "116   28.400  0.007007\n",
      "117   28.656  0.014308\n",
      "118   28.912  0.013357\n",
      "119   29.168  0.011423\n",
      "120   29.424  0.011273\n",
      "121   29.680  0.010529\n",
      "122   29.936  0.011912\n",
      "123   30.192  0.012311\n",
      "124   30.448  0.016505\n",
      "125   30.704  0.017207\n",
      "126   30.960  0.014413\n",
      "127   31.216  0.017629\n",
      "128   31.472  0.015806\n",
      "129   31.728  0.018271\n",
      "130   31.984  0.019273\n",
      "131   32.240  0.019115\n",
      "132   32.496  0.017484\n",
      "133   32.752  0.014533\n",
      "134   33.008  0.010013\n",
      "135   33.264  0.007851\n",
      "136   33.520  0.008637\n",
      "137   33.776  0.008834\n",
      "138   34.032  0.007598\n",
      "139   34.288  0.012822\n",
      "140   34.544  0.011546\n",
      "141   34.800  0.012176\n",
      "142   35.056  0.007435\n",
      "143   35.312  0.012510\n",
      "144   35.568  0.011968\n",
      "145   35.824  0.014556\n",
      "146   36.080  0.011659\n",
      "147   36.336  0.009991\n",
      "148   36.592  0.009672\n",
      "149   36.848  0.009300\n",
      "150   37.104  0.008097\n",
      "151   37.360  0.011984\n",
      "152   37.616  0.018523\n",
      "153   37.872  0.016997\n",
      "154   38.128  0.016023\n",
      "155   38.384  0.017208\n",
      "156   38.640  0.021228\n",
      "157   38.896  0.021202\n",
      "158   39.152  0.019854\n",
      "159   39.408  0.016879\n",
      "160   39.664  0.014789\n",
      "161   39.920  0.014042\n",
      "162   40.176  0.016187\n",
      "163   40.432  0.014448\n",
      "164   40.688  0.014655\n",
      "165   40.944  0.013687\n",
      "166   41.200  0.015288\n",
      "167   41.456  0.018031\n",
      "168   41.712  0.008614\n",
      "169   41.968  0.007452\n",
      "170   42.224  0.005609\n",
      "171   42.480  0.008343\n",
      "172   42.736  0.009878\n",
      "173   42.992  0.014221\n",
      "174   43.248  0.014956\n",
      "175   43.504  0.012059\n",
      "176   43.760  0.010557\n",
      "177   44.016  0.012596\n",
      "178   44.272  0.014022\n",
      "179   44.528  0.016498\n",
      "180   44.784  0.017662\n",
      "181   45.040  0.018087\n",
      "182   45.296  0.018800\n",
      "183   45.552  0.017469\n",
      "184   45.808  0.011896\n",
      "185   46.064  0.012230\n",
      "186   46.320  0.017174\n",
      "187   46.576  0.017943\n",
      "188   46.832  0.015361\n",
      "189   47.088  0.017941\n",
      "190   47.344  0.022667\n",
      "191   47.600  0.018661\n",
      "192   47.856  0.019058\n",
      "193   48.112  0.014959\n",
      "194   48.368  0.014782\n",
      "195   48.624  0.017660\n",
      "196   48.880  0.017086\n",
      "197   49.136  0.017372\n",
      "198   49.392  0.018533\n",
      "199   49.648  0.017044\n",
      "200   49.904  0.014940\n",
      "201   50.160  0.015332\n",
      "202   50.416  0.016632\n",
      "203   50.672  0.018683\n",
      "204   50.928  0.016068\n",
      "205   51.184  0.013631\n",
      "206   51.440  0.012002\n",
      "207   51.696  0.013333\n",
      "208   51.952  0.016081\n",
      "209   52.208  0.012601\n",
      "210   52.464  0.011219\n",
      "211   52.720  0.011317\n",
      "212   52.976  0.012299\n",
      "213   53.232  0.009730\n",
      "214   53.488  0.011180\n",
      "215   53.744  0.011430\n",
      "216   54.000  0.010809\n",
      "217   54.256  0.009010\n",
      "218   54.512  0.008989\n",
      "219   54.768  0.008418\n",
      "220   55.024  0.007851\n",
      "221   55.280  0.009337\n",
      "222   55.536  0.007616\n",
      "223   55.792  0.009528\n",
      "224   56.048  0.006130\n",
      "225   56.304  0.005699\n",
      "226   56.560  0.006872\n",
      "227   56.816  0.007837\n",
      "228   57.072  0.006829\n",
      "229   57.328  0.005291\n",
      "230   57.584  0.006924\n",
      "231   57.840  0.007533\n",
      "232   58.096  0.007288\n",
      "233   58.352  0.005242\n",
      "234   58.608  0.005518\n",
      "235   58.864  0.005793\n",
      "236   59.120  0.004411\n",
      "237   59.376  0.004868\n",
      "238   59.632  0.004050\n",
      "239   59.888  0.004977\n",
      "240   60.144  0.005460\n",
      "241   60.400  0.003339\n",
      "242   60.656  0.001988\n",
      "243   60.912  0.005921\n",
      "244   61.168  0.005909\n",
      "245   61.424  0.005901\n",
      "246   61.680  0.008329\n",
      "247   61.936  0.009740\n",
      "248   62.192  0.012298\n",
      "249   62.448  0.008807\n",
      "250   62.704  0.010089\n",
      "251   62.960  0.008295\n",
      "252   63.216  0.008887\n",
      "253   63.472  0.010729\n",
      "254   63.728  0.010274\n",
      "255   63.984  0.008075\n",
      "256   64.240  0.010501\n",
      "257   64.496  0.011081\n",
      "258   64.752  0.010412\n",
      "259   65.008  0.008129\n",
      "260   65.264  0.004224\n",
      "261   65.520  0.005791\n",
      "262   65.776  0.007971\n",
      "263   66.032  0.010440\n",
      "264   66.288  0.007893\n",
      "265   66.544  0.005968\n",
      "266   66.800  0.005168\n",
      "267   67.056  0.005894\n",
      "268   67.312  0.007357\n",
      "269   67.568  0.007226\n",
      "270   67.824  0.009071\n",
      "271   68.080  0.009112\n",
      "272   68.336  0.009460\n",
      "273   68.592  0.007017\n",
      "274   68.848  0.005902\n",
      "275   69.104  0.006629\n",
      "276   69.360  0.005902\n",
      "277   69.616  0.005737\n",
      "278   69.872  0.006882\n",
      "279   70.128  0.005850\n",
      "280   70.384  0.006975\n",
      "281   70.640  0.006115\n",
      "282   70.896  0.006599\n",
      "283   71.152  0.005474\n",
      "284   71.408  0.004984\n",
      "285   71.664  0.004245\n",
      "286   71.920  0.002224\n",
      "287   72.176  0.003530\n",
      "288   72.432  0.004869\n",
      "289   72.688  0.004856\n",
      "290   72.944  0.004572\n",
      "291   73.200  0.005181\n",
      "292   73.456  0.004222\n",
      "293   73.712  0.004511\n",
      "294   73.968  0.004007\n",
      "295   74.224  0.005496\n",
      "296   74.480  0.005009\n",
      "297   74.736  0.006912\n",
      "298   74.992  0.006148\n",
      "299   75.248  0.006811\n",
      "300   75.504  0.006462\n",
      "301   75.760  0.006781\n",
      "302   76.016  0.006794\n",
      "303   76.272  0.006507\n",
      "304   76.528  0.006322\n",
      "305   76.784  0.007118\n",
      "306   77.040  0.007156\n",
      "307   77.296  0.007275\n",
      "308   77.552  0.006919\n",
      "309   77.808  0.006128\n",
      "310   78.064  0.005798\n",
      "311   78.320  0.006090\n",
      "312   78.576  0.004613\n",
      "313   78.832  0.003288\n",
      "314   79.088  0.004455\n",
      "315   79.344  0.004238\n",
      "316   79.600  0.003997\n",
      "317   79.856  0.005028\n",
      "318   80.112  0.004938\n",
      "319   80.368  0.006431\n",
      "320   80.624  0.004179\n",
      "321   80.880  0.003537\n",
      "322   81.136  0.003107\n",
      "323   81.392  0.005211\n",
      "324   81.648  0.005524\n",
      "325   81.904  0.005699\n",
      "326   82.160  0.006731\n",
      "327   82.416  0.006592\n",
      "328   82.672  0.005066\n",
      "329   82.928  0.004992\n",
      "330   83.184  0.004188\n",
      "331   83.440  0.004643\n",
      "332   83.696  0.004099\n",
      "333   83.952  0.004458\n",
      "334   84.208  0.004568\n",
      "335   84.464  0.005039\n",
      "336   84.720  0.005822\n",
      "337   84.976  0.006164\n",
      "338   85.232  0.004831\n",
      "339   85.488  0.005473\n",
      "340   85.744  0.006109\n",
      "341   86.000  0.005241\n",
      "342   86.256  0.004698\n",
      "343   86.512  0.003918\n",
      "344   86.768  0.004089\n",
      "345   87.024  0.003606\n",
      "346   87.280  0.001554\n",
      "347   87.536  0.002883\n",
      "348   87.792  0.003113\n",
      "349   88.048  0.002413\n",
      "350   88.304  0.003734\n",
      "351   88.560  0.004634\n",
      "352   88.816  0.003817\n",
      "353   89.072  0.004709\n",
      "354   89.328  0.003143\n",
      "355   89.584  0.004116\n",
      "356   89.840  0.003432\n",
      "357   90.096  0.005274\n",
      "358   90.352  0.004597\n",
      "359   90.608  0.004269\n",
      "360   90.864  0.004815\n",
      "361   91.120  0.004057\n",
      "362   91.376  0.003275\n",
      "363   91.632  0.003423\n",
      "364   91.888  0.002626\n",
      "365   92.144  0.002831\n",
      "366   92.400  0.002647\n",
      "367   92.656  0.002457\n",
      "368   92.912  0.001297\n",
      "369   93.168  0.002072\n",
      "370   93.424  0.001734\n",
      "371   93.680  0.002324\n",
      "372   93.936  0.000715\n",
      "373   94.192  0.002020\n",
      "374   94.448  0.002342\n",
      "375   94.704  0.002497\n",
      "376   94.960  0.003706\n",
      "377   95.216  0.005883\n",
      "378   95.472  0.004266\n",
      "379   95.728  0.003767\n",
      "380   95.984  0.004445\n",
      "381   96.240  0.004382\n",
      "382   96.496  0.004099\n",
      "383   96.752  0.004292\n",
      "384   97.008  0.004458\n",
      "385   97.264  0.002017\n",
      "386   97.520  0.000753\n",
      "387   97.776  0.001382\n",
      "388   98.032  0.002451\n",
      "389   98.288  0.002160\n",
      "390   98.544  0.002260\n",
      "391   98.800  0.003809\n",
      "392   99.056  0.004738\n",
      "393   99.312  0.004911\n",
      "394   99.568  0.004899\n",
      "395   99.824  0.004468\n",
      "396  100.080  0.002534\n",
      "397  100.336  0.003593\n",
      "398  100.592  0.003215\n",
      "399  100.848  0.004115\n",
      "400  101.104  0.003697\n",
      "401  101.360  0.003421\n",
      "402  101.616  0.003308\n",
      "403  101.872  0.002647\n",
      "404  102.128  0.001362\n",
      "405  102.384  0.003388\n",
      "406  102.640  0.003201\n",
      "407  102.896  0.002612\n",
      "408  103.152  0.003330\n",
      "409  103.408  0.002334\n",
      "410  103.664  0.002698\n",
      "411  103.920  0.002476\n",
      "412  104.176  0.002667\n",
      "413  104.432  0.002428\n",
      "414  104.688  0.002472\n",
      "415  104.944  0.003532\n",
      "416  105.200  0.003453\n",
      "417  105.456  0.003455\n",
      "418  105.712  0.003699\n",
      "419  105.968  0.004560\n",
      "420  106.224  0.002914\n",
      "421  106.480  0.002759\n",
      "422  106.736  0.002115\n",
      "423  106.992  0.001909\n",
      "424  107.248  0.001704\n",
      "425  107.504  0.002441\n",
      "426  107.760  0.002296\n",
      "427  108.016  0.002268\n",
      "428  108.272  0.002685\n",
      "429  108.528  0.001034\n",
      "430  108.784  0.002703\n",
      "431  109.040  0.001999\n",
      "432  109.296  0.002093\n",
      "433  109.552  0.003106\n",
      "434  109.808  0.002992\n",
      "435  110.064  0.003175\n",
      "436  110.320  0.001913\n",
      "437  110.576  0.001057\n",
      "438  110.832  0.001552\n",
      "439  111.088  0.000260\n",
      "440  111.344  0.001055\n",
      "441  111.600  0.001409\n",
      "442  111.856  0.001447\n",
      "443  112.112  0.001466\n",
      "444  112.368  0.001477\n",
      "445  112.624  0.001802\n",
      "446  112.880  0.001782\n",
      "447  113.136  0.000855\n",
      "448  113.392  0.000517\n",
      "449  113.648  0.001053\n",
      "450  113.904  0.001977\n",
      "451  114.160  0.002005\n",
      "452  114.416  0.001518\n",
      "453  114.672  0.001658\n",
      "454  114.928  0.001171\n",
      "455  115.184  0.000853\n",
      "456  115.440  0.000809\n",
      "457  115.696  0.002345\n",
      "458  115.952  0.001189\n",
      "459  116.208  0.001116\n",
      "460  116.464  0.001293\n",
      "461  116.720  0.001265\n",
      "462  116.976  0.001848\n",
      "463  117.232  0.000219\n",
      "464  117.488  0.001220\n",
      "465  117.744  0.000504\n",
      "466  118.000  0.000786\n",
      "467  118.256  0.002006\n",
      "468  118.512  0.000840\n",
      "469  118.768  0.002154\n",
      "470  119.024  0.002033\n",
      "471  119.280  0.001490\n",
      "472  119.536  0.002876\n",
      "473  119.792  0.002079\n",
      "474  120.048  0.002046\n",
      "475  120.304  0.002162\n",
      "476  120.560  0.002067\n",
      "477  120.816  0.002805\n",
      "478  121.072  0.001652\n",
      "479  121.328  0.001586\n",
      "480  121.584  0.001679\n",
      "481  121.840  0.001725\n",
      "482  122.096  0.000871\n",
      "483  122.352  0.000363\n",
      "484  122.608  0.000680\n",
      "485  122.864  0.001077\n",
      "486  123.120  0.000094\n",
      "487  123.376  0.001016\n",
      "488  123.632  0.000446\n",
      "489  123.888  0.001467\n",
      "490  124.144  0.000771\n",
      "491  124.400  0.001111\n",
      "492  124.656  0.000947\n",
      "493  124.912  0.000482\n",
      "494  125.168  0.000609\n",
      "495  125.424  0.000972\n",
      "496  125.680  0.001391\n",
      "497  125.936  0.000163\n",
      "498  126.192  0.000459\n",
      "499  126.448  0.000382\n",
      "500  126.704  0.001289\n",
      "501  126.960  0.001414\n",
      "502  127.216  0.000665\n",
      "503  127.472  0.001074\n",
      "504  127.728  0.000683\n",
      "505  127.984  0.000721\n",
      "506  128.240  0.000406\n",
      "507  128.496  0.000228\n",
      "508  128.752  0.000988\n",
      "509  129.008  0.001162\n",
      "510  129.264  0.000018\n",
      "511  129.520  0.001171\n",
      "512  129.776  0.000788\n",
      "513  130.032  0.000917\n",
      "514  130.288 -0.000348\n",
      "515  130.544  0.001040\n",
      "516  130.800  0.000716\n",
      "517  131.056  0.001354\n",
      "518  131.312  0.000649\n",
      "519  131.568  0.000437\n",
      "520  131.824  0.000484\n",
      "521  132.080  0.000388\n",
      "522  132.336  0.000646\n",
      "523  132.592  0.001459\n",
      "524  132.848  0.000105\n",
      "525  133.104  0.001005\n",
      "526  133.360  0.001270\n",
      "527  133.616  0.001063\n",
      "528  133.872  0.000640\n",
      "529  134.128  0.000260\n",
      "530  134.384  0.000357\n",
      "531  134.640  0.001091\n",
      "532  134.896  0.000392\n",
      "533  135.152  0.001168\n",
      "534  135.408  0.000391\n",
      "535  135.664 -0.000398\n",
      "536  135.920  0.000469\n",
      "537  136.176  0.001555\n",
      "538  136.432  0.000475\n",
      "539  136.688  0.001457\n",
      "540  136.944  0.001257\n",
      "541  137.200  0.001124\n",
      "542  137.456  0.001027\n",
      "543  137.712  0.000992\n",
      "544  137.968  0.000224\n",
      "545  138.224  0.000650\n",
      "546  138.480  0.000823\n",
      "547  138.736  0.000204\n",
      "548  138.992  0.000309\n",
      "549  139.248  0.001262\n",
      "550  139.504  0.000933\n",
      "551  139.760  0.000433\n",
      "552  140.016  0.001044\n",
      "553  140.272  0.001252\n",
      "554  140.528  0.000860\n",
      "555  140.784  0.000661\n",
      "556  141.040  0.000959\n",
      "557  141.296  0.001307\n",
      "558  141.552  0.000588\n",
      "559  141.808 -0.000104\n",
      "560  142.064  0.000895\n",
      "561  142.320  0.000636\n",
      "562  142.576  0.001576\n",
      "563  142.832  0.000940\n",
      "564  143.088  0.000220\n",
      "565  143.344  0.001225\n",
      "566  143.600  0.001049\n",
      "567  143.856  0.001145\n",
      "568  144.112  0.000092\n",
      "569  144.368  0.001544\n",
      "570  144.624  0.000292\n",
      "571  144.880  0.000439\n",
      "572  145.136  0.000476\n",
      "573  145.392  0.000123\n",
      "574  145.648  0.001292\n",
      "575  145.904  0.000628\n",
      "576  146.160  0.001037\n",
      "577  146.416  0.000736\n",
      "578  146.672  0.001787\n",
      "579  146.928  0.000243\n",
      "580  147.184  0.000649\n",
      "581  147.440  0.000676\n",
      "582  147.696  0.001391\n",
      "583  147.952 -0.000164\n",
      "584  148.208  0.000640\n",
      "585  148.464  0.001175\n",
      "586  148.720  0.001318\n",
      "587  148.976  0.000982\n",
      "588  149.232  0.001094\n",
      "589  149.488  0.000522\n",
      "590  149.744  0.000933\n",
      "591  150.000  0.000447\n",
      "592  150.256 -0.000034\n",
      "593  150.512  0.000588\n",
      "594  150.768  0.001034\n",
      "595  151.024  0.000416\n",
      "596  151.280 -0.000240\n",
      "597  151.536  0.000234\n",
      "598  151.792 -0.000625\n",
      "599  152.048  0.000030\n",
      "600  152.304  0.000235\n",
      "601  152.560  0.000768\n",
      "602  152.816  0.000509\n",
      "603  153.072  0.000280\n",
      "604  153.328 -0.000047\n",
      "605  153.584  0.000667\n",
      "606  153.840  0.000387\n",
      "607  154.096  0.000281\n",
      "608  154.352 -0.000436\n",
      "609  154.608 -0.000070\n",
      "610  154.864  0.000228\n",
      "611  155.120  0.000348\n",
      "612  155.376  0.001259\n",
      "613  155.632  0.000831\n",
      "614  155.888  0.000657\n",
      "615  156.144  0.001166\n",
      "616  156.400  0.000600\n",
      "617  156.656  0.000566\n",
      "618  156.912  0.000553\n",
      "619  157.168  0.000439\n",
      "620  157.424  0.000912\n",
      "621  157.680  0.000270\n",
      "622  157.936  0.000443\n",
      "623  158.192  0.000854\n",
      "624  158.448 -0.000077\n",
      "625  158.704  0.000246\n",
      "626  158.960  0.000704\n",
      "627  159.216  0.000660\n",
      "628  159.472  0.000880\n",
      "629  159.728 -0.000201\n",
      "630  159.984  0.000379\n",
      "631  160.240  0.000384\n",
      "632  160.496  0.001063\n",
      "633  160.752  0.000611\n",
      "634  161.008  0.000395\n",
      "635  161.264  0.000551\n",
      "636  161.520  0.000071\n",
      "637  161.776 -0.000134\n",
      "638  162.032  0.000621\n",
      "639  162.288  0.000399\n",
      "640  162.544  0.000170\n",
      "641  162.800  0.000589\n",
      "642  163.056  0.000412\n",
      "643  163.312 -0.000425\n",
      "644  163.568 -0.000274\n",
      "645  163.824  0.000422\n",
      "646  164.080  0.000409\n",
      "647  164.336  0.000085\n",
      "648  164.592 -0.000597\n",
      "649  164.848  0.000555\n",
      "650  165.104  0.000167\n",
      "651  165.360 -0.000631\n",
      "652  165.616 -0.000507\n",
      "653  165.872  0.000641\n",
      "654  166.128  0.000856\n",
      "655  166.384  0.000338\n",
      "656  166.640  0.000363\n",
      "657  166.896  0.000192\n",
      "658  167.152  0.000610\n",
      "659  167.408 -0.000112\n",
      "660  167.664  0.000358\n",
      "661  167.920  0.000612\n",
      "662  168.176  0.001167\n",
      "663  168.432 -0.000694\n",
      "664  168.688  0.000727\n",
      "665  168.944 -0.000198\n",
      "666  169.200  0.000651\n",
      "667  169.456  0.000267\n",
      "668  169.712  0.001191\n",
      "669  169.968 -0.000089\n",
      "670  170.224 -0.000073\n",
      "671  170.480  0.000072\n",
      "672  170.736  0.000438\n",
      "673  170.992  0.000639\n",
      "674  171.248  0.000240\n",
      "675  171.504  0.000406\n",
      "676  171.760  0.000424\n",
      "677  172.016  0.000124\n",
      "678  172.272  0.000785\n",
      "679  172.528  0.000276\n",
      "680  172.784  0.000158\n",
      "681  173.040  0.000781\n",
      "682  173.296  0.001321\n",
      "683  173.552 -0.000111\n",
      "684  173.808  0.001095\n",
      "685  174.064  0.000193\n",
      "686  174.320 -0.000259\n",
      "687  174.576  0.000163\n",
      "688  174.832  0.000279\n",
      "689  175.088 -0.000263\n",
      "690  175.344  0.000449\n",
      "691  175.600  0.000649\n",
      "692  175.856  0.001126\n",
      "693  176.112  0.000259\n",
      "694  176.368  0.000721\n",
      "695  176.624 -0.000011\n",
      "696  176.880  0.000213\n",
      "697  177.136 -0.000367\n",
      "698  177.392  0.000323\n",
      "699  177.648 -0.000505\n",
      "700  177.904 -0.000389\n",
      "701  178.160  0.000445\n",
      "702  178.416  0.000455\n",
      "703  178.672  0.000143\n",
      "704  178.928  0.000209\n"
     ]
    }
   ],
   "source": [
    "normalized_data_random_GRB = swift.lc_normalize(limited_data_random_GRB)\n",
    "print(normalized_data_random_GRB)\n",
    "del limited_data_random_GRB # Delete unused variables to handle memory usage"
   ]
  },
  {
   "cell_type": "markdown",
   "metadata": {
    "collapsed": false,
    "jupyter": {
     "outputs_hidden": false
    }
   },
   "source": [
    "Note that normalized data are only limited data divided by 15-350 keV integrated flux (in this case). So, the next step is to do this for all limited GRBs. To get a much faster execution performance, we use the `parallelize_lc_normalize` function. To verify if this instance is doing its job well, we will compare (for the random GRB selected before) if the data stored in **_normalized_data_random_GRB_** and obtained in parallelize are equal.\n",
    "\n",
    "The `parallelize_lc_normalize` function receives an array containing the light curves for each GRB to be normalized. The light curves can be condensed in a Pandas Dataframe (as used in this notebook) or in an array-like (i.e., a numpy array). There is only one requisite to use either `parallelize_lc_normalize` or `lc_normalize`:\n",
    "\n",
    "- The array's format must follow: $[[t_0, x_0, y_0, z_0, ...], [t_1, x_1, y_1, z_1, ...], [t_2, x_2, y_2, z_2, ...], ...]$ with $t_i$ the time elements, and $x_i$, $y_i$, ... the i-esim bands counts."
   ]
  },
  {
   "cell_type": "code",
   "execution_count": 136,
   "metadata": {
    "ExecuteTime": {
     "end_time": "2023-05-21T21:01:54.094937722Z",
     "start_time": "2023-05-21T21:01:52.591495673Z"
    },
    "collapsed": false,
    "jupyter": {
     "outputs_hidden": false
    }
   },
   "outputs": [
    {
     "name": "stderr",
     "output_type": "stream",
     "text": [
      "Fatal Python error: init_import_site: Failed to import the site module\n",
      "Python runtime state: initialized\n",
      "Traceback (most recent call last):\n",
      "  File \"/usr/local/Cellar/python@3.9/3.9.19/Frameworks/Python.framework/Versions/3.9/lib/python3.9/site.py\", line 598, in <module>\n",
      "Fatal Python error: init_import_site: Failed to import the site module\n",
      "Python runtime state: initialized\n",
      "Traceback (most recent call last):\n",
      "  File \"/usr/local/Cellar/python@3.9/3.9.19/Frameworks/Python.framework/Versions/3.9/lib/python3.9/site.py\", line 598, in <module>\n"
     ]
    },
    {
     "ename": "KeyboardInterrupt",
     "evalue": "",
     "output_type": "error",
     "traceback": [
      "\u001b[0;31m---------------------------------------------------------------------------\u001b[0m",
      "\u001b[0;31mKeyboardInterrupt\u001b[0m                         Traceback (most recent call last)",
      "Cell \u001b[0;32mIn[136], line 1\u001b[0m\n\u001b[0;32m----> 1\u001b[0m normalized_data \u001b[38;5;241m=\u001b[39m \u001b[43mswift\u001b[49m\u001b[38;5;241;43m.\u001b[39;49m\u001b[43mparallel_lc_normalize\u001b[49m\u001b[43m(\u001b[49m\u001b[43mlimited_data\u001b[49m\u001b[43m)\u001b[49m  \u001b[38;5;66;03m# Normalizing all light curves\u001b[39;00m\n\u001b[1;32m      2\u001b[0m normalized_data_random_GRB_2 \u001b[38;5;241m=\u001b[39m normalized_data[random_index]  \u001b[38;5;66;03m# Extract normalized values for random GRB\u001b[39;00m\n\u001b[1;32m      3\u001b[0m \u001b[38;5;28mprint\u001b[39m(\u001b[38;5;124mf\u001b[39m\u001b[38;5;124m\"\u001b[39m\u001b[38;5;124mAre both arrays equal? Answer=\u001b[39m\u001b[38;5;132;01m{\u001b[39;00mnp\u001b[38;5;241m.\u001b[39mallclose(normalized_data_random_GRB,\u001b[38;5;250m \u001b[39mnormalized_data_random_GRB_2)\u001b[38;5;132;01m}\u001b[39;00m\u001b[38;5;124m\"\u001b[39m)\n",
      "File \u001b[0;32m~/astro-205/grb/venv/lib/python3.9/site-packages/ClassiPyGRB/_swift.py:659\u001b[0m, in \u001b[0;36mSWIFT.parallel_lc_normalize\u001b[0;34m(self, data, base)\u001b[0m\n\u001b[1;32m    656\u001b[0m     \u001b[38;5;28;01mraise\u001b[39;00m \u001b[38;5;167;01mValueError\u001b[39;00m(\u001b[38;5;124mf\u001b[39m\u001b[38;5;124m\"\u001b[39m\u001b[38;5;124mLength of base needs to match len of data array. Received \u001b[39m\u001b[38;5;132;01m{\u001b[39;00m\u001b[38;5;28mlen\u001b[39m(base)\u001b[38;5;132;01m}\u001b[39;00m\u001b[38;5;124m elements in base\u001b[39m\u001b[38;5;124m\"\u001b[39m\n\u001b[1;32m    657\u001b[0m                      \u001b[38;5;124mf\u001b[39m\u001b[38;5;124m\"\u001b[39m\u001b[38;5;124m and \u001b[39m\u001b[38;5;132;01m{\u001b[39;00m\u001b[38;5;28mlen\u001b[39m(data)\u001b[38;5;132;01m}\u001b[39;00m\u001b[38;5;124m elements in data.\u001b[39m\u001b[38;5;124m\"\u001b[39m)\n\u001b[1;32m    658\u001b[0m \u001b[38;5;28;01mwith\u001b[39;00m concurrent\u001b[38;5;241m.\u001b[39mfutures\u001b[38;5;241m.\u001b[39mProcessPoolExecutor(max_workers\u001b[38;5;241m=\u001b[39m\u001b[38;5;28mself\u001b[39m\u001b[38;5;241m.\u001b[39mworkers) \u001b[38;5;28;01mas\u001b[39;00m executor:  \u001b[38;5;66;03m# Parallelization\u001b[39;00m\n\u001b[0;32m--> 659\u001b[0m     results \u001b[38;5;241m=\u001b[39m \u001b[38;5;28mlist\u001b[39m(tqdm(\u001b[43mexecutor\u001b[49m\u001b[38;5;241;43m.\u001b[39;49m\u001b[43mmap\u001b[49m\u001b[43m(\u001b[49m\u001b[38;5;28;43mself\u001b[39;49m\u001b[38;5;241;43m.\u001b[39;49m\u001b[43mlc_normalize\u001b[49m\u001b[43m,\u001b[49m\u001b[43m \u001b[49m\u001b[43mdata\u001b[49m\u001b[43m)\u001b[49m, total\u001b[38;5;241m=\u001b[39m\u001b[38;5;28mlen\u001b[39m(data), desc\u001b[38;5;241m=\u001b[39m\u001b[38;5;124m'\u001b[39m\u001b[38;5;124mLC Normalizing: \u001b[39m\u001b[38;5;124m'\u001b[39m,\n\u001b[1;32m    660\u001b[0m                         unit\u001b[38;5;241m=\u001b[39m\u001b[38;5;124m'\u001b[39m\u001b[38;5;124mGRB\u001b[39m\u001b[38;5;124m'\u001b[39m))\n\u001b[1;32m    661\u001b[0m \u001b[38;5;28;01mreturn\u001b[39;00m results\n",
      "File \u001b[0;32m/usr/local/Cellar/python@3.9/3.9.19/Frameworks/Python.framework/Versions/3.9/lib/python3.9/concurrent/futures/process.py:753\u001b[0m, in \u001b[0;36mProcessPoolExecutor.map\u001b[0;34m(self, fn, timeout, chunksize, *iterables)\u001b[0m\n\u001b[1;32m    750\u001b[0m \u001b[38;5;28;01mif\u001b[39;00m chunksize \u001b[38;5;241m<\u001b[39m \u001b[38;5;241m1\u001b[39m:\n\u001b[1;32m    751\u001b[0m     \u001b[38;5;28;01mraise\u001b[39;00m \u001b[38;5;167;01mValueError\u001b[39;00m(\u001b[38;5;124m\"\u001b[39m\u001b[38;5;124mchunksize must be >= 1.\u001b[39m\u001b[38;5;124m\"\u001b[39m)\n\u001b[0;32m--> 753\u001b[0m results \u001b[38;5;241m=\u001b[39m \u001b[38;5;28;43msuper\u001b[39;49m\u001b[43m(\u001b[49m\u001b[43m)\u001b[49m\u001b[38;5;241;43m.\u001b[39;49m\u001b[43mmap\u001b[49m\u001b[43m(\u001b[49m\u001b[43mpartial\u001b[49m\u001b[43m(\u001b[49m\u001b[43m_process_chunk\u001b[49m\u001b[43m,\u001b[49m\u001b[43m \u001b[49m\u001b[43mfn\u001b[49m\u001b[43m)\u001b[49m\u001b[43m,\u001b[49m\n\u001b[1;32m    754\u001b[0m \u001b[43m                      \u001b[49m\u001b[43m_get_chunks\u001b[49m\u001b[43m(\u001b[49m\u001b[38;5;241;43m*\u001b[39;49m\u001b[43miterables\u001b[49m\u001b[43m,\u001b[49m\u001b[43m \u001b[49m\u001b[43mchunksize\u001b[49m\u001b[38;5;241;43m=\u001b[39;49m\u001b[43mchunksize\u001b[49m\u001b[43m)\u001b[49m\u001b[43m,\u001b[49m\n\u001b[1;32m    755\u001b[0m \u001b[43m                      \u001b[49m\u001b[43mtimeout\u001b[49m\u001b[38;5;241;43m=\u001b[39;49m\u001b[43mtimeout\u001b[49m\u001b[43m)\u001b[49m\n\u001b[1;32m    756\u001b[0m \u001b[38;5;28;01mreturn\u001b[39;00m _chain_from_iterable_of_lists(results)\n",
      "File \u001b[0;32m/usr/local/Cellar/python@3.9/3.9.19/Frameworks/Python.framework/Versions/3.9/lib/python3.9/concurrent/futures/_base.py:598\u001b[0m, in \u001b[0;36mExecutor.map\u001b[0;34m(self, fn, timeout, chunksize, *iterables)\u001b[0m\n\u001b[1;32m    595\u001b[0m \u001b[38;5;28;01mif\u001b[39;00m timeout \u001b[38;5;129;01mis\u001b[39;00m \u001b[38;5;129;01mnot\u001b[39;00m \u001b[38;5;28;01mNone\u001b[39;00m:\n\u001b[1;32m    596\u001b[0m     end_time \u001b[38;5;241m=\u001b[39m timeout \u001b[38;5;241m+\u001b[39m time\u001b[38;5;241m.\u001b[39mmonotonic()\n\u001b[0;32m--> 598\u001b[0m fs \u001b[38;5;241m=\u001b[39m [\u001b[38;5;28mself\u001b[39m\u001b[38;5;241m.\u001b[39msubmit(fn, \u001b[38;5;241m*\u001b[39margs) \u001b[38;5;28;01mfor\u001b[39;00m args \u001b[38;5;129;01min\u001b[39;00m \u001b[38;5;28mzip\u001b[39m(\u001b[38;5;241m*\u001b[39miterables)]\n\u001b[1;32m    600\u001b[0m \u001b[38;5;66;03m# Yield must be hidden in closure so that the futures are submitted\u001b[39;00m\n\u001b[1;32m    601\u001b[0m \u001b[38;5;66;03m# before the first iterator value is required.\u001b[39;00m\n\u001b[1;32m    602\u001b[0m \u001b[38;5;28;01mdef\u001b[39;00m \u001b[38;5;21mresult_iterator\u001b[39m():\n",
      "File \u001b[0;32m/usr/local/Cellar/python@3.9/3.9.19/Frameworks/Python.framework/Versions/3.9/lib/python3.9/concurrent/futures/_base.py:598\u001b[0m, in \u001b[0;36m<listcomp>\u001b[0;34m(.0)\u001b[0m\n\u001b[1;32m    595\u001b[0m \u001b[38;5;28;01mif\u001b[39;00m timeout \u001b[38;5;129;01mis\u001b[39;00m \u001b[38;5;129;01mnot\u001b[39;00m \u001b[38;5;28;01mNone\u001b[39;00m:\n\u001b[1;32m    596\u001b[0m     end_time \u001b[38;5;241m=\u001b[39m timeout \u001b[38;5;241m+\u001b[39m time\u001b[38;5;241m.\u001b[39mmonotonic()\n\u001b[0;32m--> 598\u001b[0m fs \u001b[38;5;241m=\u001b[39m [\u001b[38;5;28;43mself\u001b[39;49m\u001b[38;5;241;43m.\u001b[39;49m\u001b[43msubmit\u001b[49m\u001b[43m(\u001b[49m\u001b[43mfn\u001b[49m\u001b[43m,\u001b[49m\u001b[43m \u001b[49m\u001b[38;5;241;43m*\u001b[39;49m\u001b[43margs\u001b[49m\u001b[43m)\u001b[49m \u001b[38;5;28;01mfor\u001b[39;00m args \u001b[38;5;129;01min\u001b[39;00m \u001b[38;5;28mzip\u001b[39m(\u001b[38;5;241m*\u001b[39miterables)]\n\u001b[1;32m    600\u001b[0m \u001b[38;5;66;03m# Yield must be hidden in closure so that the futures are submitted\u001b[39;00m\n\u001b[1;32m    601\u001b[0m \u001b[38;5;66;03m# before the first iterator value is required.\u001b[39;00m\n\u001b[1;32m    602\u001b[0m \u001b[38;5;28;01mdef\u001b[39;00m \u001b[38;5;21mresult_iterator\u001b[39m():\n",
      "File \u001b[0;32m/usr/local/Cellar/python@3.9/3.9.19/Frameworks/Python.framework/Versions/3.9/lib/python3.9/concurrent/futures/process.py:705\u001b[0m, in \u001b[0;36mProcessPoolExecutor.submit\u001b[0;34m(self, fn, *args, **kwargs)\u001b[0m\n\u001b[1;32m    704\u001b[0m \u001b[38;5;28;01mdef\u001b[39;00m \u001b[38;5;21msubmit\u001b[39m(\u001b[38;5;28mself\u001b[39m, fn, \u001b[38;5;241m/\u001b[39m, \u001b[38;5;241m*\u001b[39margs, \u001b[38;5;241m*\u001b[39m\u001b[38;5;241m*\u001b[39mkwargs):\n\u001b[0;32m--> 705\u001b[0m     \u001b[38;5;28;01mwith\u001b[39;00m \u001b[38;5;28mself\u001b[39m\u001b[38;5;241m.\u001b[39m_shutdown_lock:\n\u001b[1;32m    706\u001b[0m         \u001b[38;5;28;01mif\u001b[39;00m \u001b[38;5;28mself\u001b[39m\u001b[38;5;241m.\u001b[39m_broken:\n\u001b[1;32m    707\u001b[0m             \u001b[38;5;28;01mraise\u001b[39;00m BrokenProcessPool(\u001b[38;5;28mself\u001b[39m\u001b[38;5;241m.\u001b[39m_broken)\n",
      "\u001b[0;31mKeyboardInterrupt\u001b[0m: "
     ]
    }
   ],
   "source": [
    "normalized_data = swift.parallel_lc_normalize(limited_data)  # Normalizing all light curves\n",
    "normalized_data_random_GRB_2 = normalized_data[random_index]  # Extract normalized values for random GRB\n",
    "print(f\"Are both arrays equal? Answer={np.allclose(normalized_data_random_GRB, normalized_data_random_GRB_2)}\")\n",
    "del normalized_data_random_GRB_2, limited_data  # Delete unused variables to handle memory usage"
   ]
  },
  {
   "cell_type": "code",
   "execution_count": null,
   "metadata": {
    "collapsed": false,
    "jupyter": {
     "outputs_hidden": false
    }
   },
   "outputs": [],
   "source": [
    "print(len(normalized_data))\n",
    "print(len(normalized_data[0]))\n",
    "print(len(normalized_data[1]))\n",
    "print(len(normalized_data[5]))"
   ]
  },
  {
   "cell_type": "code",
   "execution_count": null,
   "metadata": {},
   "outputs": [],
   "source": [
    "limited_data[0]"
   ]
  },
  {
   "cell_type": "code",
   "execution_count": null,
   "metadata": {},
   "outputs": [],
   "source": [
    "normalized_data[0]"
   ]
  },
  {
   "cell_type": "code",
   "execution_count": null,
   "metadata": {},
   "outputs": [],
   "source": [
    "limited_data[0][\"15-25keV\"]/sum(limited_data[0][\"15-25keV\"])"
   ]
  },
  {
   "cell_type": "code",
   "execution_count": null,
   "metadata": {},
   "outputs": [],
   "source": [
    "import matplotlib.pyplot as plt\n",
    "\n",
    "# Calculate the number of data points in each spectrum\n",
    "data_points_counts = [len(spectrum) for spectrum in normalized_data]"
   ]
  },
  {
   "cell_type": "code",
   "execution_count": null,
   "metadata": {},
   "outputs": [],
   "source": [
    "# Plotting the histogram of the number of data points\n",
    "plt.figure(figsize=(10, 5))\n",
    "plt.hist(data_points_counts, bins=30, alpha=0.75, color='blue')\n",
    "plt.title('Histogram of Number of Data Points per Spectrum')\n",
    "plt.xlabel('Number of Data Points')\n",
    "plt.ylabel('Frequency')\n",
    "plt.grid(True)\n",
    "plt.show()"
   ]
  },
  {
   "cell_type": "markdown",
   "metadata": {
    "collapsed": false,
    "jupyter": {
     "outputs_hidden": false
    }
   },
   "source": [
    "## Third step: Zero Padding\n",
    "With all GRBs limited out of $T_{100}$ and normalized, we need to zero-pad their light curves to place them on the same time basis. The `zero_pad` instance performs this job by adding zeros to each column in the input array, and the only arguments required are the final length of the zero-padded array and the array itself.\n",
    "\n",
    "Here, we are going to see how this function zeros pad the data at its end for the GRB selected before (drawing 10000 rows):"
   ]
  },
  {
   "cell_type": "code",
   "execution_count": null,
   "metadata": {
    "ExecuteTime": {
     "end_time": "2023-05-21T21:01:54.166687677Z",
     "start_time": "2023-05-21T21:01:54.130071103Z"
    },
    "collapsed": false,
    "jupyter": {
     "outputs_hidden": false
    }
   },
   "outputs": [],
   "source": [
    "zero_padded_data_random_GRB = swift.zero_pad(np.asarray(normalized_data_random_GRB), length=10000)\n",
    "print(zero_padded_data_random_GRB.shape)\n",
    "del zero_padded_data_random_GRB  # Delete unused variables to handle memory usage"
   ]
  },
  {
   "cell_type": "markdown",
   "metadata": {
    "collapsed": false,
    "jupyter": {
     "outputs_hidden": false
    }
   },
   "source": [
    "As you can see, now the input array has 1000 columns with zeros added in all the columns. We want to stress that **only when the input is a Pandas Dataframe the time columns will be deleted**. When the input array is, for example, a numpy array, the time column will be returned as well as the Swift/BAT measurements:"
   ]
  },
  {
   "cell_type": "code",
   "execution_count": null,
   "metadata": {
    "ExecuteTime": {
     "end_time": "2023-05-21T21:01:54.167586864Z",
     "start_time": "2023-05-21T21:01:54.130602069Z"
    },
    "collapsed": false,
    "jupyter": {
     "outputs_hidden": false
    }
   },
   "outputs": [],
   "source": [
    "zero_padded_data_random_GRB = swift.zero_pad(normalized_data_random_GRB, length=15309)\n",
    "print(zero_padded_data_random_GRB)"
   ]
  },
  {
   "cell_type": "markdown",
   "metadata": {
    "collapsed": false,
    "jupyter": {
     "outputs_hidden": false
    }
   },
   "source": [
    "Now, if you want to iterate over a selected sample of GRBs in a parallel way, you can use the `parallel_zero_pad` instance from **ClassiPyGRB**. It can receive the number of total columns to be used for each GRB as an array, or as an integer the number of columns every GRB will have. By default, the `parallel_zero_pad` looks for the max length of the input arrays and zero pad up to the next optimal length to perform Discrete Fourier Transform (DFT), you can look at [this link](https://docs.scipy.org/doc/scipy/reference/generated/scipy.fftpack.next_fast_len.html) for further details.\n",
    "\n",
    "**Note:** Zero-pad arrays will increase the memory usage of **ClassiPyGRB**, take care of your current available memory.\n",
    "\n",
    "Let's zero pad all the normalized light curves from Swift/BAT to prepare it for DFT (and check if the results are equal from the individual case):"
   ]
  },
  {
   "cell_type": "code",
   "execution_count": null,
   "metadata": {
    "ExecuteTime": {
     "end_time": "2023-05-21T21:01:57.962245110Z",
     "start_time": "2023-05-21T21:01:54.131099933Z"
    },
    "collapsed": false,
    "jupyter": {
     "outputs_hidden": false
    }
   },
   "outputs": [],
   "source": [
    "zero_padded_data = swift.parallel_zero_pad(normalized_data)"
   ]
  },
  {
   "cell_type": "code",
   "execution_count": null,
   "metadata": {},
   "outputs": [],
   "source": [
    "print(len(zero_padded_data[0]))\n",
    "print(len(zero_padded_data[1]))\n",
    "print(len(zero_padded_data[100]))\n",
    "zero_padded_data_random_GRB = swift.zero_pad(normalized_data_random_GRB, length=len(zero_padded_data[0]))\n",
    "print(f\"Are both arrays equal? Answer={np.allclose(zero_padded_data_random_GRB, zero_padded_data[random_index])}\")\n",
    "print(f\"Size of zero-padded array: {round(zero_padded_data.__sizeof__()/1024/1024, 5)} MB\")"
   ]
  },
  {
   "cell_type": "markdown",
   "metadata": {
    "collapsed": false,
    "jupyter": {
     "outputs_hidden": false
    }
   },
   "source": [
    "## Intermediate step: Concatenating\n",
    "\n",
    "To perform Discrete Fourier Transform (DTFT) we need to concatenate the GRB data band by band to get a single signal containing all the zero-padded light curves.\n",
    "\n",
    "At this point, we want to stress also that DFT is not the best preprocessing solution to separate groups of GRBs, for example, using Stationary Wavelet Transform as stated in [Lána et al.(2022)](https://www.mdpi.com/2075-4434/10/4/78). **ClassiPyGRB** has implemented a DFT approach, but if you want to use another approach, it is possible to only concatenate all the light curves in ascendant order of energy bands (without performing DFT) using the `concatenate` instance and its parallel version `parallel_concatenate`.\n",
    "\n",
    "The `concatenate` instance receives the input array (either a Pandas Dataframe or any array-like) and joins each column from left to right in a single 1D array. For example, let's concatenate the zero-padded data for the random GRB selected in a Pandas Dataframe and a Numpy array (take care about the time column, if you have not deleted it yet):"
   ]
  },
  {
   "cell_type": "code",
   "execution_count": null,
   "metadata": {
    "ExecuteTime": {
     "end_time": "2023-05-21T21:01:57.990002860Z",
     "start_time": "2023-05-21T21:01:57.978169722Z"
    },
    "collapsed": false,
    "jupyter": {
     "outputs_hidden": false
    }
   },
   "outputs": [],
   "source": [
    "concatenated_example = swift.concatenate(zero_padded_data_random_GRB)  # Pandas Dataframe approach\n",
    "concatenated_example_2 = swift.concatenate(np.asarray(zero_padded_data_random_GRB))  # Numpy array approach\n",
    "print(f\"Are both arrays equal? Answer={np.allclose(concatenated_example, concatenated_example_2)}. Shape: {concatenated_example.shape}\")\n",
    "print(concatenated_example)\n",
    "del concatenated_example_2  # Delete unused variables to handle memory usage"
   ]
  },
  {
   "cell_type": "markdown",
   "metadata": {
    "collapsed": false,
    "jupyter": {
     "outputs_hidden": false
    }
   },
   "source": [
    "On the other hand, the `parallel_concatenate` instance receives a list of arrays with GRB data to be concatenated:"
   ]
  },
  {
   "cell_type": "code",
   "execution_count": null,
   "metadata": {
    "ExecuteTime": {
     "end_time": "2023-05-21T21:02:03.294988542Z",
     "start_time": "2023-05-21T21:01:57.978798672Z"
    },
    "collapsed": false,
    "jupyter": {
     "outputs_hidden": false
    }
   },
   "outputs": [],
   "source": [
    "concatenated_data = swift.parallel_concatenate(zero_padded_data)\n",
    "print(f\"Are both arrays equal? Answer={np.allclose(concatenated_example, concatenated_data[random_index])}\")\n",
    "print(f\"Size of zero-padded array: {round(concatenated_data.__sizeof__()/1024/1024, 5)} MB\")"
   ]
  },
  {
   "cell_type": "code",
   "execution_count": null,
   "metadata": {},
   "outputs": [],
   "source": [
    "import matplotlib.pyplot as plt\n",
    "\n",
    "x = np.linspace(0, concatenated_example.shape[0], concatenated_example.shape[0])\n",
    "plt.figure(figsize=(10, 6))\n",
    "plt.plot(x, concatenated_example, label='Actual Spectrum')  # Converting tensor to numpy array for plotting\n",
    "plt.xlabel('Data Point Index')\n",
    "plt.ylabel('Intensity')\n",
    "plt.legend()\n",
    "plt.grid(True)"
   ]
  },
  {
   "cell_type": "markdown",
   "metadata": {
    "collapsed": false,
    "jupyter": {
     "outputs_hidden": false
    }
   },
   "source": [
    ">[!NOTE]\n",
    "> Take care about memory usage when concatenating data! As you can see, the array itself uses GigaBytes in memory."
   ]
  },
  {
   "cell_type": "markdown",
   "metadata": {
    "collapsed": false,
    "jupyter": {
     "outputs_hidden": false
    }
   },
   "source": [
    "## Final Step: Discrete Fourier Transform\n",
    "\n",
    "Finally, the last step of Swift data pre-processing is to perform a Fast Fourier Transform to zero-padded normalized data out of $T_{100}$. There are many Python packages to do this job, particularly in this notebook. Therefore, we use _Numpy_ in the `dft_spectrum` instance, but before that, this function concatenates all energy band measurements in one single array, as required to execute DFT:"
   ]
  },
  {
   "cell_type": "code",
   "execution_count": null,
   "metadata": {
    "ExecuteTime": {
     "end_time": "2023-05-21T21:02:03.301615131Z",
     "start_time": "2023-05-21T21:02:03.290908439Z"
    },
    "collapsed": false,
    "jupyter": {
     "outputs_hidden": false
    }
   },
   "outputs": [],
   "source": [
    "dft_random_GRB = swift.dft_spectrum(concatenated_example)"
   ]
  },
  {
   "cell_type": "markdown",
   "metadata": {
    "collapsed": false,
    "jupyter": {
     "outputs_hidden": false
    }
   },
   "source": [
    "To plot the DFT of any signal, you can use the `dft_plot` instance. It only needs to receive the Fourier Spectrum as an argument, and it is possible to pass a sequence of Matplotlib axes objects to further customization, and the name of GRB only for enabling title in graphic:"
   ]
  },
  {
   "cell_type": "code",
   "execution_count": null,
   "metadata": {
    "ExecuteTime": {
     "end_time": "2023-05-21T21:02:04.051550462Z",
     "start_time": "2023-05-21T21:02:03.299832036Z"
    },
    "collapsed": false,
    "jupyter": {
     "outputs_hidden": false
    }
   },
   "outputs": [],
   "source": [
    "ax = swift.dft_plot(dft_random_GRB, name=GRB_names[random_index])"
   ]
  },
  {
   "cell_type": "code",
   "execution_count": null,
   "metadata": {},
   "outputs": [],
   "source": []
  },
  {
   "cell_type": "code",
   "execution_count": null,
   "metadata": {},
   "outputs": [],
   "source": [
    "name =  GRB_names[random_index]  # Change this with the GRB of your preference\n",
    "axis_2 = swift.plot_any_grb(name, t=100)  # Plot Light Curve out of T_100"
   ]
  },
  {
   "cell_type": "code",
   "execution_count": null,
   "metadata": {},
   "outputs": [],
   "source": [
    "axis = swift.plot_any_grb(name, t=None, figsize=[6.4, 4.8])"
   ]
  },
  {
   "cell_type": "markdown",
   "metadata": {
    "collapsed": false,
    "jupyter": {
     "outputs_hidden": false
    }
   },
   "source": [
    "Note that DFT data is below the Nyquist frequency, following the Nyquist-Shannon sampling theorem:\n",
    "\n",
    "_The Nyquist-Shannon sampling theorem states that a signal sampled at a rate can be fully reconstructed if it contains only frequency components below half that sampling frequency. Thus, the highest frequency output from the DFT is half the sampling rate._\n",
    "\n",
    "With this, we can now calculate DFT for the entire zero-padded dataset using the `so_much_fourier` instance:"
   ]
  },
  {
   "cell_type": "code",
   "execution_count": null,
   "metadata": {
    "ExecuteTime": {
     "end_time": "2023-05-21T21:02:10.842260999Z",
     "start_time": "2023-05-21T21:02:04.052563742Z"
    },
    "collapsed": false,
    "jupyter": {
     "outputs_hidden": false
    }
   },
   "outputs": [],
   "source": [
    "pre_processing_data = swift.parallel_dft_spectrum(concatenated_data)\n",
    "print(f\"Are both arrays equal? Answer={np.allclose(dft_random_GRB, pre_processing_data[random_index])}\")\n",
    "print(f\"Size of zero-padded array: {round(pre_processing_data.__sizeof__()/1024/1024, 5)} MB\")"
   ]
  },
  {
   "cell_type": "markdown",
   "metadata": {
    "collapsed": false,
    "jupyter": {
     "outputs_hidden": false
    }
   },
   "source": [
    "## Saving results\n",
    "\n",
    "Finally, the pre-processing data stage is over. Then, we want to save all data in a compressed format to load in the next section. For this, you can use the `save_results` function (based in `savez` instance of Numpy):"
   ]
  },
  {
   "cell_type": "code",
   "execution_count": null,
   "metadata": {
    "ExecuteTime": {
     "end_time": "2023-05-21T21:02:21.204263105Z",
     "start_time": "2023-05-21T21:02:10.847225419Z"
    },
    "collapsed": false,
    "jupyter": {
     "outputs_hidden": false
    }
   },
   "outputs": [],
   "source": [
    "swift.save_results(f'SWIFT_data_{swift.res}res_{\"\".join(str(b) for b in swift.n_bands)}bands_DFT_True.npz', names=GRB_names, data=pre_processing_data)  # Save Data with DFT\n",
    "swift.save_results(f'SWIFT_data_{swift.res}res_{\"\".join(str(b) for b in swift.n_bands)}bands_DFT_False.npz', names=GRB_names, data=concatenated_data)  # Save Data without DFT"
   ]
  },
  {
   "cell_type": "markdown",
   "metadata": {
    "collapsed": false,
    "jupyter": {
     "outputs_hidden": false
    }
   },
   "source": []
  },
  {
   "cell_type": "markdown",
   "metadata": {
    "collapsed": false,
    "jupyter": {
     "outputs_hidden": false
    }
   },
   "source": []
  },
  {
   "cell_type": "code",
   "execution_count": null,
   "metadata": {},
   "outputs": [],
   "source": [
    "pre_processing_data.shape"
   ]
  },
  {
   "cell_type": "code",
   "execution_count": null,
   "metadata": {},
   "outputs": [],
   "source": [
    "concatenated_data.shape"
   ]
  },
  {
   "cell_type": "code",
   "execution_count": null,
   "metadata": {},
   "outputs": [],
   "source": [
    "pre_processing_data[0]"
   ]
  },
  {
   "cell_type": "code",
   "execution_count": null,
   "metadata": {},
   "outputs": [],
   "source": [
    "r = np.fft.ifft(pre_processing_data[0]).real"
   ]
  },
  {
   "cell_type": "code",
   "execution_count": null,
   "metadata": {},
   "outputs": [],
   "source": [
    "len(r)"
   ]
  },
  {
   "cell_type": "code",
   "execution_count": null,
   "metadata": {},
   "outputs": [],
   "source": [
    "import matplotlib.pyplot as plt\n",
    "\n",
    "x = np.linspace(0, len(r), len(r))\n",
    "plt.figure(figsize=(10, 6))\n",
    "plt.plot(x, r, label='Actual Spectrum')  # Converting tensor to numpy array for plotting\n",
    "plt.xlabel('Data Point Index')\n",
    "plt.ylabel('Intensity')\n",
    "plt.legend()\n",
    "plt.grid(True)"
   ]
  },
  {
   "cell_type": "code",
   "execution_count": null,
   "metadata": {},
   "outputs": [],
   "source": [
    "import matplotlib.pyplot as plt\n",
    "\n",
    "y = concatenated_data[0]\n",
    "\n",
    "x = np.linspace(0, len(y), len(y))\n",
    "plt.figure(figsize=(10, 6))\n",
    "plt.plot(x, y, label='Actual Spectrum')  # Converting tensor to numpy array for plotting\n",
    "plt.xlabel('Data Point Index')\n",
    "plt.ylabel('Intensity')\n",
    "plt.legend()\n",
    "plt.grid(True)"
   ]
  },
  {
   "cell_type": "code",
   "execution_count": null,
   "metadata": {},
   "outputs": [],
   "source": [
    "import matplotlib.pyplot as plt\n",
    "\n",
    "y = concatenated_data[0][:100]\n",
    "\n",
    "x = np.linspace(0, len(y), len(y))\n",
    "plt.figure(figsize=(10, 6))\n",
    "plt.plot(x, y, label='Actual Spectrum')  # Converting tensor to numpy array for plotting\n",
    "plt.xlabel('Data Point Index')\n",
    "plt.ylabel('Intensity')\n",
    "plt.legend()\n",
    "plt.grid(True)"
   ]
  },
  {
   "cell_type": "code",
   "execution_count": null,
   "metadata": {},
   "outputs": [],
   "source": [
    "import matplotlib.pyplot as plt\n",
    "\n",
    "y = r[:100]\n",
    "\n",
    "x = np.linspace(0, len(y), len(y))\n",
    "plt.figure(figsize=(10, 6))\n",
    "plt.plot(x, y, label='Actual Spectrum')  # Converting tensor to numpy array for plotting\n",
    "plt.xlabel('Data Point Index')\n",
    "plt.ylabel('Intensity')\n",
    "plt.legend()\n",
    "plt.grid(True)"
   ]
  },
  {
   "cell_type": "code",
   "execution_count": null,
   "metadata": {},
   "outputs": [],
   "source": [
    "import numpy as np\n",
    "\n",
    "def reconstruct_signal(dft_coefficients):\n",
    "    # Using np.fft.ifft to compute the inverse Fourier transform\n",
    "    reconstructed_signal = np.fft.ifft(dft_coefficients)\n",
    "    return reconstructed_signal.real  # Returning only the real part if the original data was real\n",
    "\n",
    "# Example usage\n",
    "og = concatenated_data[0][:100]\n",
    "dft_coefficients = np.fft.fft(og)  # Example DFT coefficients for demonstration\n",
    "reconstructed_signal = reconstruct_signal(dft_coefficients)\n",
    "\n",
    "print(\"Original signal:\", og)\n",
    "print(\"Reconstructed signal:\", reconstructed_signal)\n"
   ]
  },
  {
   "cell_type": "code",
   "execution_count": null,
   "metadata": {},
   "outputs": [],
   "source": [
    "x = np.linspace(0, len(og), len(og))\n",
    "plt.figure(figsize=(10, 6))\n",
    "plt.plot(x, og, label='Actual Spectrum')  # Converting tensor to numpy array for plotting\n",
    "plt.plot(x, reconstructed_signal, label='Reconstructed Spectrum',linestyle='--')\n",
    "plt.xlabel('Data Point Index')\n",
    "plt.ylabel('Intensity')\n",
    "plt.legend()\n",
    "plt.grid(True)\n"
   ]
  },
  {
   "cell_type": "code",
   "execution_count": null,
   "metadata": {},
   "outputs": [],
   "source": [
    "dft_GRB_0 = swift.dft_spectrum(og)\n",
    "dft_GRB_0"
   ]
  },
  {
   "cell_type": "code",
   "execution_count": null,
   "metadata": {},
   "outputs": [],
   "source": [
    "x = np.linspace(0, len(dft_GRB_0), len(dft_GRB_0))\n",
    "plt.figure(figsize=(10, 6))\n",
    "plt.plot(x, dft_GRB_0, label='Actual Spectrum')  # Converting tensor to numpy array for plotting\n",
    "plt.xlabel('Data Point Index')\n",
    "plt.ylabel('Intensity')\n",
    "plt.legend()\n",
    "plt.grid(True)"
   ]
  },
  {
   "cell_type": "code",
   "execution_count": null,
   "metadata": {},
   "outputs": [],
   "source": [
    "dft_coefficients = np.fft.fft(og).real\n",
    "dft_coefficients"
   ]
  },
  {
   "cell_type": "code",
   "execution_count": null,
   "metadata": {},
   "outputs": [],
   "source": [
    "x = np.linspace(0, len(dft_coefficients), len(dft_coefficients))\n",
    "plt.figure(figsize=(10, 6))\n",
    "plt.plot(x, dft_coefficients, label='Actual Spectrum')  # Converting tensor to numpy array for plotting\n",
    "plt.xlabel('Data Point Index')\n",
    "plt.ylabel('Intensity')\n",
    "plt.legend()\n",
    "plt.grid(True)"
   ]
  },
  {
   "cell_type": "code",
   "execution_count": null,
   "metadata": {},
   "outputs": [],
   "source": [
    "dft_coefficients = dft_coefficients[:50]\n",
    "\n",
    "x = np.linspace(0, len(dft_coefficients), len(dft_coefficients))\n",
    "plt.figure(figsize=(10, 6))\n",
    "plt.plot(x, dft_coefficients, label='Actual Spectrum')  # Converting tensor to numpy array for plotting\n",
    "plt.xlabel('Data Point Index')\n",
    "plt.ylabel('Intensity')\n",
    "plt.legend()\n",
    "plt.grid(True)"
   ]
  },
  {
   "cell_type": "code",
   "execution_count": null,
   "metadata": {},
   "outputs": [],
   "source": []
  }
 ],
 "metadata": {
  "kernelspec": {
   "display_name": "grb",
   "language": "python",
   "name": "grb"
  },
  "language_info": {
   "codemirror_mode": {
    "name": "ipython",
    "version": 3
   },
   "file_extension": ".py",
   "mimetype": "text/x-python",
   "name": "python",
   "nbconvert_exporter": "python",
   "pygments_lexer": "ipython3",
   "version": "3.9.19"
  }
 },
 "nbformat": 4,
 "nbformat_minor": 4
}
