{
 "cells": [
  {
   "cell_type": "code",
   "execution_count": 1,
   "id": "09e93a89-3bcb-4725-b4f2-315ffdd92951",
   "metadata": {},
   "outputs": [],
   "source": [
    "from ClassiPyGRB import SWIFT\n",
    "# Packages needed in this notebook\n",
    "import os\n",
    "import pandas as pd\n",
    "import numpy as np"
   ]
  },
  {
   "cell_type": "code",
   "execution_count": 2,
   "id": "2ad90c9d-2091-4330-8123-0266441a796f",
   "metadata": {},
   "outputs": [
    {
     "name": "stdout",
     "output_type": "stream",
     "text": [
      "0       GRB230911C\n",
      "1       GRB230903A\n",
      "2       GRB230826A\n",
      "3       GRB230818A\n",
      "4       GRB230816A\n",
      "           ...    \n",
      "1573     GRB041220\n",
      "1574    GRB041219C\n",
      "1575    GRB041219B\n",
      "1576    GRB041219A\n",
      "1577     GRB041217\n",
      "Name: GRBname, Length: 1578, dtype: object\n"
     ]
    }
   ],
   "source": [
    "swift = SWIFT(root_path=r'data', res=256)\n",
    "df = swift.summary_table()  # Obtain Summary Table\n",
    "GRB_names = df['GRBname']  # Extract column with GRB Names\n",
    "print(GRB_names)"
   ]
  },
  {
   "cell_type": "code",
   "execution_count": 3,
   "id": "91ac664c-6c7a-44b5-aa71-10b1fda1a1ce",
   "metadata": {},
   "outputs": [
    {
     "name": "stderr",
     "output_type": "stream",
     "text": [
      "Downloading: 100%|█████████████████████████| 1578/1578 [04:49<00:00,  5.45GRB/s]\n"
     ]
    }
   ],
   "source": [
    "swift.multiple_downloads(GRB_names)"
   ]
  },
  {
   "cell_type": "code",
   "execution_count": 4,
   "id": "3716c7f2-c60b-4416-b154-16ef13d9bc89",
   "metadata": {},
   "outputs": [
    {
     "name": "stdout",
     "output_type": "stream",
     "text": [
      "      GRB Name                                              Error\n",
      "0   GRB170131A  404 Client Error: Not Found for url: https://s...\n",
      "1   GRB160623A  404 Client Error: Not Found for url: https://s...\n",
      "2   GRB160409A  404 Client Error: Not Found for url: https://s...\n",
      "3   GRB150407A  404 Client Error: Not Found for url: https://s...\n",
      "4   GRB140909A  404 Client Error: Not Found for url: https://s...\n",
      "5   GRB140611A  404 Client Error: Not Found for url: https://s...\n",
      "6   GRB131031A  404 Client Error: Not Found for url: https://s...\n",
      "7   GRB130913A  404 Client Error: Not Found for url: https://s...\n",
      "8   GRB130518A  404 Client Error: Not Found for url: https://s...\n",
      "9   GRB120817B  404 Client Error: Not Found for url: https://s...\n",
      "10  GRB110604A  404 Client Error: Not Found for url: https://s...\n",
      "11  GRB101204A  404 Client Error: Not Found for url: https://s...\n",
      "12   GRB090827  404 Client Error: Not Found for url: https://s...\n",
      "13  GRB090720A  404 Client Error: Not Found for url: https://s...\n",
      "14  GRB071112C  404 Client Error: Not Found for url: https://s...\n",
      "15  GRB071028B  404 Client Error: Not Found for url: https://s...\n",
      "16  GRB071010C  404 Client Error: Not Found for url: https://s...\n",
      "17   GRB071006  404 Client Error: Not Found for url: https://s...\n",
      "18   GRB070227  404 Client Error: Not Found for url: https://s...\n",
      "19   GRB070125  404 Client Error: Not Found for url: https://s...\n",
      "20   GRB060123  404 Client Error: Not Found for url: https://s...\n",
      "21  GRB041219A  404 Client Error: Not Found for url: https://s...\n"
     ]
    }
   ],
   "source": [
    "df_error = pd.read_table(os.path.join(swift.original_data_path, f\"Errors_{swift.end}.txt\"), sep='\\t', comment='#', names=['GRB Name', 'Error'], header=None)\n",
    "GRB_errors = np.array(df_error['GRB Name'])\n",
    "print(df_error)"
   ]
  },
  {
   "cell_type": "code",
   "execution_count": 5,
   "id": "811a0fdb-b443-45d0-b1e3-909c4c4e8ff6",
   "metadata": {},
   "outputs": [
    {
     "name": "stderr",
     "output_type": "stream",
     "text": [
      "Downloading: 100%|█████████████████████████████| 22/22 [00:00<00:00, 23.53GRB/s]\n"
     ]
    }
   ],
   "source": [
    "match = np.where(np.isin(GRB_names, GRB_errors))[0]  # Index the IDs of GRB Errors\n",
    "swift.multiple_downloads(np.array(GRB_names[match]))  # Try to re-download the GRBs"
   ]
  },
  {
   "cell_type": "code",
   "execution_count": 6,
   "id": "30947281-67c1-4e28-a7cb-fdf5a1ab62d0",
   "metadata": {},
   "outputs": [
    {
     "name": "stdout",
     "output_type": "stream",
     "text": [
      "There are 3034.583 MB of data\n"
     ]
    }
   ],
   "source": [
    "size = 0  # Set size variable to zero\n",
    "for path, dirs, files in os.walk(swift.original_data_path):  # Loop over the folder containing all data downloaded\n",
    "    for f in files:  # Loop over files into folder\n",
    "        fp = os.path.join(path, f)  # Join file name with folder path\n",
    "        size += os.stat(fp).st_size  # Get file size and sum over previous size\n",
    "print(f\"There are {round(size / (1024 * 1024), 3)} MB of data\")"
   ]
  },
  {
   "cell_type": "code",
   "execution_count": null,
   "id": "3d84274f-5567-4f2e-ad49-aacbb03f0a12",
   "metadata": {},
   "outputs": [],
   "source": []
  }
 ],
 "metadata": {
  "kernelspec": {
   "display_name": "grb",
   "language": "python",
   "name": "grb"
  },
  "language_info": {
   "codemirror_mode": {
    "name": "ipython",
    "version": 3
   },
   "file_extension": ".py",
   "mimetype": "text/x-python",
   "name": "python",
   "nbconvert_exporter": "python",
   "pygments_lexer": "ipython3",
   "version": "3.9.19"
  }
 },
 "nbformat": 4,
 "nbformat_minor": 5
}
