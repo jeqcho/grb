{
 "cells": [
  {
   "cell_type": "code",
   "execution_count": 1,
   "id": "09e93a89-3bcb-4725-b4f2-315ffdd92951",
   "metadata": {},
   "outputs": [],
   "source": [
    "from ClassiPyGRB import SWIFT\n",
    "# Packages needed in this notebook\n",
    "import os\n",
    "import pandas as pd\n",
    "import numpy as np"
   ]
  },
  {
   "cell_type": "code",
   "execution_count": 2,
   "id": "c1f628a2-beeb-47d4-be87-b4573ae6e3c3",
   "metadata": {},
   "outputs": [],
   "source": [
    "# old until 230911C"
   ]
  },
  {
   "cell_type": "code",
   "execution_count": 11,
   "id": "2ad90c9d-2091-4330-8123-0266441a796f",
   "metadata": {},
   "outputs": [
    {
     "name": "stdout",
     "output_type": "stream",
     "text": [
      "0       GRB231215A\n",
      "1       GRB231214A\n",
      "2       GRB231210B\n",
      "3       GRB231205B\n",
      "4       GRB231129A\n",
      "           ...    \n",
      "1584     GRB041220\n",
      "1585    GRB041219C\n",
      "1586    GRB041219B\n",
      "1587    GRB041219A\n",
      "1588     GRB041217\n",
      "Name: GRBname, Length: 1589, dtype: object\n"
     ]
    }
   ],
   "source": [
    "swift = SWIFT(root_path=r'data', res=256)\n",
    "df = swift.summary_table()  # Obtain Summary Table\n",
    "GRB_names = df['GRBname']  # Extract column with GRB Names\n",
    "print(GRB_names)"
   ]
  },
  {
   "cell_type": "code",
   "execution_count": 12,
   "id": "14bce5f6-e6f3-41c3-ae8c-3b235978a3e1",
   "metadata": {},
   "outputs": [
    {
     "data": {
      "text/plain": [
       "0     GRB231215A\n",
       "1     GRB231214A\n",
       "2     GRB231210B\n",
       "3     GRB231205B\n",
       "4     GRB231129A\n",
       "5     GRB231118A\n",
       "6     GRB231117A\n",
       "7     GRB231111A\n",
       "8     GRB231110A\n",
       "9     GRB231104A\n",
       "10    GRB231028A\n",
       "Name: GRBname, dtype: object"
      ]
     },
     "execution_count": 12,
     "metadata": {},
     "output_type": "execute_result"
    }
   ],
   "source": [
    "new_GRBS = df[df['GRBname'] > 'GRB230911C']['GRBname']\n",
    "new_GRBS"
   ]
  },
  {
   "cell_type": "code",
   "execution_count": 13,
   "id": "fc8110ff-cc51-4110-8b10-823a925ae72d",
   "metadata": {},
   "outputs": [
    {
     "name": "stderr",
     "output_type": "stream",
     "text": [
      "Downloading: 100%|█████████████████████████████| 11/11 [00:01<00:00,  6.46GRB/s]\n"
     ]
    }
   ],
   "source": [
    "swift.multiple_downloads(new_GRBS)"
   ]
  },
  {
   "cell_type": "code",
   "execution_count": 3,
   "id": "91ac664c-6c7a-44b5-aa71-10b1fda1a1ce",
   "metadata": {},
   "outputs": [
    {
     "name": "stderr",
     "output_type": "stream",
     "text": [
      "Downloading: 100%|█████████████████████████| 1578/1578 [04:49<00:00,  5.45GRB/s]\n"
     ]
    }
   ],
   "source": [
    "swift.multiple_downloads(GRB_names)"
   ]
  },
  {
   "cell_type": "code",
   "execution_count": 14,
   "id": "3716c7f2-c60b-4416-b154-16ef13d9bc89",
   "metadata": {},
   "outputs": [
    {
     "name": "stdout",
     "output_type": "stream",
     "text": [
      "Empty DataFrame\n",
      "Columns: [GRB Name, Error]\n",
      "Index: []\n"
     ]
    }
   ],
   "source": [
    "df_error = pd.read_table(os.path.join(swift.original_data_path, f\"Errors_{swift.end}.txt\"), sep='\\t', comment='#', names=['GRB Name', 'Error'], header=None)\n",
    "GRB_errors = np.array(df_error['GRB Name'])\n",
    "print(df_error)"
   ]
  },
  {
   "cell_type": "code",
   "execution_count": 5,
   "id": "811a0fdb-b443-45d0-b1e3-909c4c4e8ff6",
   "metadata": {},
   "outputs": [
    {
     "name": "stderr",
     "output_type": "stream",
     "text": [
      "Downloading: 100%|█████████████████████████████| 22/22 [00:00<00:00, 23.53GRB/s]\n"
     ]
    }
   ],
   "source": [
    "match = np.where(np.isin(GRB_names, GRB_errors))[0]  # Index the IDs of GRB Errors\n",
    "swift.multiple_downloads(np.array(GRB_names[match]))  # Try to re-download the GRBs"
   ]
  },
  {
   "cell_type": "code",
   "execution_count": 15,
   "id": "30947281-67c1-4e28-a7cb-fdf5a1ab62d0",
   "metadata": {},
   "outputs": [
    {
     "name": "stdout",
     "output_type": "stream",
     "text": [
      "There are 3057.62 MB of data\n"
     ]
    }
   ],
   "source": [
    "size = 0  # Set size variable to zero\n",
    "for path, dirs, files in os.walk(swift.original_data_path):  # Loop over the folder containing all data downloaded\n",
    "    for f in files:  # Loop over files into folder\n",
    "        fp = os.path.join(path, f)  # Join file name with folder path\n",
    "        size += os.stat(fp).st_size  # Get file size and sum over previous size\n",
    "print(f\"There are {round(size / (1024 * 1024), 3)} MB of data\")"
   ]
  },
  {
   "cell_type": "code",
   "execution_count": null,
   "id": "3d84274f-5567-4f2e-ad49-aacbb03f0a12",
   "metadata": {},
   "outputs": [],
   "source": []
  }
 ],
 "metadata": {
  "kernelspec": {
   "display_name": "grb",
   "language": "python",
   "name": "grb"
  },
  "language_info": {
   "codemirror_mode": {
    "name": "ipython",
    "version": 3
   },
   "file_extension": ".py",
   "mimetype": "text/x-python",
   "name": "python",
   "nbconvert_exporter": "python",
   "pygments_lexer": "ipython3",
   "version": "3.9.19"
  }
 },
 "nbformat": 4,
 "nbformat_minor": 5
}
